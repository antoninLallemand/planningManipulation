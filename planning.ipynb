{
 "cells": [
  {
   "cell_type": "code",
   "execution_count": 1,
   "metadata": {},
   "outputs": [],
   "source": [
    "import pandas as pd\n",
    "import json\n",
    "import numpy as np\n",
    "import datetime\n",
    "import math\n",
    "import openpyxl\n",
    "import string\n",
    "import tkinter as tk\n",
    "from tkinter import filedialog\n",
    "from tkinter import colorchooser\n",
    "import locale\n"
   ]
  },
  {
   "cell_type": "markdown",
   "metadata": {},
   "source": [
    "## select file"
   ]
  },
  {
   "cell_type": "code",
   "execution_count": null,
   "metadata": {},
   "outputs": [],
   "source": [
    "root = tk.Tk()\n",
    "root.withdraw()\n",
    "\n",
    "default_directory = \" D:/GitHub/planningManipulation\"\n",
    "\n",
    "file_path = filedialog.askopenfilename(\n",
    "    title=\"Select an Excel File\",\n",
    "    initialdir=default_directory,\n",
    "    filetypes=[(\"Excel files\", \"*.xlsm\"),(\"Excel files\", \"*.xlsx\"), (\"Excel files\", \"*.xls\")]\n",
    ")\n",
    "# Print selected file path\n",
    "if file_path:\n",
    "    print(f\"Selected file: {file_path}\")\n",
    "else:\n",
    "    print(\"No file selected.\")"
   ]
  },
  {
   "cell_type": "markdown",
   "metadata": {},
   "source": [
    "### fetch .xlsm and retrieve every sheets content"
   ]
  },
  {
   "cell_type": "code",
   "execution_count": null,
   "metadata": {},
   "outputs": [],
   "source": [
    "xls = pd.ExcelFile(file_path)\n",
    "\n",
    "sheet_names = xls.sheet_names\n",
    "sheets_content = []\n",
    "sheet_head = []\n",
    "\n",
    "for sheet_name in sheet_names:\n",
    "    df = pd.read_excel(xls, sheet_name=sheet_name, header=None)\n",
    "    print(df.iloc[0, 0])\n",
    "    if df.iloc[0, 0] != sheet_name:\n",
    "        df = df.iloc[1:]\n",
    "        sheet_head.append(True)\n",
    "    else :\n",
    "        sheet_head.append(False)\n",
    "    sheets_content.append(df)\n",
    "\n",
    "workbook = openpyxl.load_workbook(file_path)\n"
   ]
  },
  {
   "cell_type": "markdown",
   "metadata": {},
   "source": [
    "### Convert into dict"
   ]
  },
  {
   "cell_type": "code",
   "execution_count": null,
   "metadata": {},
   "outputs": [],
   "source": [
    "sheet_number = 1\n",
    "\n",
    "sheet_dict_lists = sheets_content[sheet_number].to_dict(orient='list')\n",
    "print(sheet_dict_lists)"
   ]
  },
  {
   "cell_type": "markdown",
   "metadata": {},
   "source": [
    "### fetch name row numbers"
   ]
  },
  {
   "cell_type": "code",
   "execution_count": null,
   "metadata": {},
   "outputs": [],
   "source": [
    "name = 'lorine'\n",
    "UC_name = name.upper()\n",
    "rows_with_name = []\n",
    "\n",
    "for index, value in enumerate(sheet_dict_lists[0]):\n",
    "    if value == UC_name:\n",
    "        rows_with_name.append(index)\n",
    "\n",
    "rows_with_name\n"
   ]
  },
  {
   "cell_type": "markdown",
   "metadata": {},
   "source": [
    "### fetch week number row index"
   ]
  },
  {
   "cell_type": "code",
   "execution_count": null,
   "metadata": {},
   "outputs": [],
   "source": [
    "row_with_week = []\n",
    "print(sheet_names[sheet_number])\n",
    "for index, value in enumerate(sheet_dict_lists[0]):\n",
    "    if value == sheet_names[sheet_number]:\n",
    "        row_with_week.append(index)\n",
    "\n",
    "row_with_week"
   ]
  },
  {
   "cell_type": "markdown",
   "metadata": {},
   "source": [
    "### fetch dates table"
   ]
  },
  {
   "cell_type": "code",
   "execution_count": null,
   "metadata": {},
   "outputs": [],
   "source": [
    "locale.setlocale(locale.LC_TIME, 'fr_FR')\n",
    "week_dates = []\n",
    "\n",
    "for week in row_with_week :\n",
    "    week_dates.append(sheet_dict_lists[1][week].strftime(\"%d %B %Y\"))\n",
    "\n",
    "week_dates"
   ]
  },
  {
   "cell_type": "markdown",
   "metadata": {},
   "source": [
    "### fetch hours day by day"
   ]
  },
  {
   "cell_type": "code",
   "execution_count": null,
   "metadata": {},
   "outputs": [],
   "source": [
    "#1 to 24 column key fetch and numbers @ name rows\n",
    "\n",
    "# np array (2 dim)\n",
    "\n",
    "planning = np.full((6, 27), '', dtype=str)\n",
    "i = 0\n",
    "\n",
    "for name in rows_with_name :\n",
    "    for half_hour in range (1, 25) :\n",
    "        planning[i, half_hour-1] = sheet_dict_lists[list(sheet_dict_lists.keys())[half_hour]][name]\n",
    "    i+=1\n",
    "\n",
    "planning"
   ]
  },
  {
   "cell_type": "markdown",
   "metadata": {},
   "source": [
    "### fetch name cell color"
   ]
  },
  {
   "cell_type": "code",
   "execution_count": null,
   "metadata": {},
   "outputs": [],
   "source": [
    "sheet = workbook[sheet_names[sheet_number]]\n",
    "\n",
    "sheet_offset = 0\n",
    "if(sheet_head[sheet_number]):\n",
    "    sheet_offset = 2\n",
    "else:\n",
    "    sheet_offset = 1\n",
    "\n",
    "for i in range(0, len(rows_with_name)):\n",
    "    cell = sheet[f\"A{rows_with_name[i]+sheet_offset}\"]\n",
    "    if isinstance(cell.fill.start_color.rgb, str):\n",
    "        bg_color = cell.fill.start_color.rgb\n",
    "        if bg_color == \"FFFF0000\":\n",
    "            planning[i, 23] = '1'\n",
    "            planning[i, 24] = '1'\n",
    "            planning[i, 25] = '1'\n",
    "\n",
    "planning\n",
    "\n",
    "        "
   ]
  },
  {
   "cell_type": "markdown",
   "metadata": {},
   "source": [
    "### create start and end times"
   ]
  },
  {
   "cell_type": "code",
   "execution_count": null,
   "metadata": {},
   "outputs": [],
   "source": [
    "def workFrame(planning) :\n",
    "    frames = []\n",
    "    half = np.arange(16, 44, 1)\n",
    "    isBegin = False\n",
    "    row = [0,0]\n",
    "    for i in range(0, half.size-1) :\n",
    "        if(planning[i] == '1' and not isBegin) :\n",
    "            isBegin = True\n",
    "            row[0] = half[i]/2\n",
    "        if(planning[i] != '1' and isBegin) :\n",
    "            isBegin = False\n",
    "            row[1] = half[i]/2\n",
    "            frames.append([row[0], row[1]])\n",
    "\n",
    "    return frames\n",
    "\n",
    "print(workFrame(planning[4]))"
   ]
  },
  {
   "cell_type": "code",
   "execution_count": null,
   "metadata": {},
   "outputs": [],
   "source": [
    "data = []\n",
    "date = 0\n",
    "start_time = datetime.datetime(2024, 1, 1, 0, 0)\n",
    "days_of_week = ['Lundi', 'Mardi', 'Mercredi', 'Jeudi', 'Vendredi', 'Samedi']\n",
    "\n",
    "alphabet_enum = list(string.ascii_uppercase)\n",
    "\n",
    "sheet_offset = 0\n",
    "if(sheet_head[sheet_number]):\n",
    "    sheet_offset = 2\n",
    "else:\n",
    "    sheet_offset = 1\n",
    "\n",
    "for day in planning :\n",
    "    frame = workFrame(day)\n",
    "    if frame == []:\n",
    "        start = start_time + datetime.timedelta(hours=8)\n",
    "        finish = start_time + datetime.timedelta(hours=20)\n",
    "        activity_name = f\"{days_of_week[date]} {week_dates[date]}\"\n",
    "        tache = \"off\"\n",
    "        for i in range (0, day.size-4):\n",
    "            cell = sheet[f\"{alphabet_enum[i+1]}{rows_with_name[date]+sheet_offset}\"]\n",
    "            if isinstance(cell.fill.start_color.rgb, str):\n",
    "                bg_color = cell.fill.start_color.rgb\n",
    "                if bg_color == \"FFFFFF00\":\n",
    "                    tache = \"vacances\"\n",
    "                elif bg_color == \"FF92D050\":\n",
    "                    tache = \"repos\"\n",
    "                elif bg_color == \"FFFF99CC\":\n",
    "                    tache = \"arrêt\"\n",
    "        data.append(dict(Work=activity_name, Start=start, Finish=finish, Tâche=tache))\n",
    "    for interval in frame :\n",
    "        start_minute = 0\n",
    "        if interval[0]%1 != 0:\n",
    "            start_minute = 30\n",
    "        start = start_time + datetime.timedelta(hours=math.floor(interval[0]), minutes=start_minute)\n",
    "        finish_minute  = 0\n",
    "        if interval[1]%1 != 0:\n",
    "            finish_minute = 30\n",
    "        finish = start_time + datetime.timedelta(hours=math.floor(interval[1]), minutes=finish_minute)\n",
    "        activity_name = f\"{days_of_week[date]} {week_dates[date]}\"\n",
    "        data.append(dict(Work=activity_name, Start=start, Finish=finish, Tâche=\"travail\"))\n",
    "    date +=1\n",
    "data\n",
    "\n",
    "#FORMAT bg_color\n",
    "    "
   ]
  },
  {
   "cell_type": "markdown",
   "metadata": {},
   "source": [
    "## graphical interface"
   ]
  },
  {
   "cell_type": "code",
   "execution_count": null,
   "metadata": {},
   "outputs": [],
   "source": [
    "import plotly.express as px\n",
    "import pandas as pd\n",
    "\n",
    "\n",
    "# Data with hour-based tasks (use a dummy date like '2024-01-01')\n",
    "df = pd.DataFrame(data)\n",
    "\n",
    "# Convert Start and Finish to datetime format\n",
    "df['Start'] = pd.to_datetime(df['Start'])\n",
    "df['Finish'] = pd.to_datetime(df['Finish'])\n",
    "\n",
    "# Calculate the duration of each task and total time elapsed\n",
    "df['Duration'] = df['Finish'] - df['Start']\n",
    "task_a_df = df[df['Tâche'] == \"travail\"]\n",
    "\n",
    "# Sum the total duration for \"Task A\"\n",
    "total_duration_task_a = task_a_df['Duration'].sum()\n",
    "\n",
    "# Retrieve total time in hours for \"Task A\"\n",
    "total_hours_task_a = total_duration_task_a.total_seconds() / 3600\n",
    "\n",
    "# Define the exact order of tasks as they appear in the data\n",
    "task_order = df[\"Work\"].tolist()\n",
    "\n",
    "color_map = {\n",
    "    \"travail\": \"rgb(141,237,217)\",\n",
    "    \"off\": \"rgb(253,88,110)\",\n",
    "    \"repos\": \"rgb(238,9,121)\",\n",
    "    \"vacances\": \"rgb(192,15,191)\",\n",
    "    \"arrêt\": \"rgb(174,225,242)\"\n",
    "}\n",
    "\n",
    "fig = px.timeline(\n",
    "    df,\n",
    "    x_start=\"Start\",\n",
    "    x_end=\"Finish\",\n",
    "    y=\"Work\",\n",
    "    color=\"Tâche\",\n",
    "    category_orders={\"Work\": task_order},\n",
    "    color_discrete_map=color_map\n",
    ")\n",
    "\n",
    "# Adjust x-axis to show tick marks at 30-minute intervals\n",
    "fig.update_layout(\n",
    "    xaxis=dict(\n",
    "        tickformat=\"%H:%M\",  # Format to show only hours and minutes\n",
    "        title=\"Heure\",\n",
    "        side=\"top\",  # Move the x-axis to the top\n",
    "        dtick=1800000  # 30 minutes in milliseconds (30 * 60 * 1000)\n",
    "    ),\n",
    "    title=f\"Total heures : {total_hours_task_a} h\"\n",
    ")\n",
    "\n",
    "fig.show()"
   ]
  }
 ],
 "metadata": {
  "kernelspec": {
   "display_name": "Python 3",
   "language": "python",
   "name": "python3"
  },
  "language_info": {
   "codemirror_mode": {
    "name": "ipython",
    "version": 3
   },
   "file_extension": ".py",
   "mimetype": "text/x-python",
   "name": "python",
   "nbconvert_exporter": "python",
   "pygments_lexer": "ipython3",
   "version": "3.12.2"
  }
 },
 "nbformat": 4,
 "nbformat_minor": 2
}
