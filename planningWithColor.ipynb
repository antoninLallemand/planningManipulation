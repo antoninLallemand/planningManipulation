{
 "cells": [
  {
   "cell_type": "code",
   "execution_count": 2,
   "metadata": {},
   "outputs": [],
   "source": [
    "import openpyxl\n",
    "import matplotlib.pyplot as plt"
   ]
  },
  {
   "cell_type": "code",
   "execution_count": null,
   "metadata": {},
   "outputs": [],
   "source": [
    "file_path = './_09_2024.xlsm'\n",
    "workbook = openpyxl.load_workbook(file_path)\n",
    "workbook"
   ]
  },
  {
   "cell_type": "code",
   "execution_count": null,
   "metadata": {},
   "outputs": [],
   "source": [
    "sheet = workbook['SEMAINE 36']\n",
    "\n",
    "cell = sheet['I127']\n",
    "\n",
    "bg_color = \"FF425683\"\n",
    "\n",
    "# Check the color format of the cell fill\n",
    "if cell.fill and cell.fill.start_color:\n",
    "    # Check for RGB/ARGB color\n",
    "    if isinstance(cell.fill.start_color.rgb, str):\n",
    "        bg_color = cell.fill.start_color.rgb\n",
    "        print(f\"Background color in RGB/ARGB format: {bg_color}\")\n",
    "    \n",
    "    # Check for Theme color\n",
    "    elif cell.fill.start_color.theme is not None:\n",
    "        print(f\"Theme color index: {cell.fill.start_color.theme}\")\n",
    "    \n",
    "    # Check for Indexed color\n",
    "    elif cell.fill.start_color.indexed is not None:\n",
    "        print(f\"Indexed color index: {cell.fill.start_color.indexed}\")\n",
    "    \n",
    "    # Check for Tint\n",
    "    if cell.fill.start_color.tint != 0:\n",
    "        print(f\"Tint value: {cell.fill.start_color.tint}\")\n",
    "    \n",
    "else:\n",
    "    print(\"The cell does not have a fill or background color.\")\n"
   ]
  },
  {
   "cell_type": "code",
   "execution_count": 6,
   "metadata": {},
   "outputs": [],
   "source": [
    "def argb_to_rgba(argb_color):\n",
    "    alpha = int(argb_color[0:2], 16) / 255.0  # Convert alpha to a range between 0 and 1\n",
    "    red = int(argb_color[2:4], 16) / 255.0\n",
    "    green = int(argb_color[4:6], 16) / 255.0\n",
    "    blue = int(argb_color[6:8], 16) / 255.0\n",
    "    return (red, green, blue, alpha)"
   ]
  },
  {
   "cell_type": "code",
   "execution_count": null,
   "metadata": {},
   "outputs": [],
   "source": [
    "rgba_color = argb_to_rgba(bg_color)\n",
    "\n",
    "fig, ax = plt.subplots()\n",
    "\n",
    "# Draw a rectangle with the retrieved color\n",
    "rect = plt.Rectangle((0.1, 0.1), 0.8, 0.8, color=rgba_color)\n",
    "ax.add_patch(rect)\n",
    "\n",
    "# Set limits and display the shape\n",
    "ax.set_xlim(0, 1)\n",
    "ax.set_ylim(0, 1)\n",
    "ax.set_aspect('equal')\n",
    "plt.show()"
   ]
  }
 ],
 "metadata": {
  "kernelspec": {
   "display_name": "Python 3",
   "language": "python",
   "name": "python3"
  },
  "language_info": {
   "codemirror_mode": {
    "name": "ipython",
    "version": 3
   },
   "file_extension": ".py",
   "mimetype": "text/x-python",
   "name": "python",
   "nbconvert_exporter": "python",
   "pygments_lexer": "ipython3",
   "version": "3.12.2"
  }
 },
 "nbformat": 4,
 "nbformat_minor": 2
}
