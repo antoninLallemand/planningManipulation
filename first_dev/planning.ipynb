{
 "cells": [
  {
   "cell_type": "code",
   "execution_count": 13,
   "metadata": {},
   "outputs": [],
   "source": [
    "import pandas as pd\n",
    "import json\n",
    "import numpy as np\n",
    "import datetime\n",
    "import math\n",
    "import openpyxl\n",
    "import string\n",
    "import tkinter as tk\n",
    "from tkinter import filedialog\n",
    "from tkinter import colorchooser\n",
    "import locale\n"
   ]
  },
  {
   "cell_type": "markdown",
   "metadata": {},
   "source": [
    "## select file"
   ]
  },
  {
   "cell_type": "code",
   "execution_count": 14,
   "metadata": {},
   "outputs": [
    {
     "name": "stdout",
     "output_type": "stream",
     "text": [
      "Selected file: D:/GitHub/planningManipulation/10- OCTOBRE 2024.xlsm\n"
     ]
    }
   ],
   "source": [
    "root = tk.Tk()\n",
    "root.withdraw()\n",
    "\n",
    "default_directory = \" D:/GitHub/planningManipulation\"\n",
    "\n",
    "file_path = filedialog.askopenfilename(\n",
    "    title=\"Select an Excel File\",\n",
    "    initialdir=default_directory,\n",
    "    filetypes=[(\"Excel files\", \"*.xlsm\"),(\"Excel files\", \"*.xlsx\"), (\"Excel files\", \"*.xls\")]\n",
    ")\n",
    "# Print selected file path\n",
    "if file_path:\n",
    "    print(f\"Selected file: {file_path}\")\n",
    "else:\n",
    "    print(\"No file selected.\")"
   ]
  },
  {
   "cell_type": "markdown",
   "metadata": {},
   "source": [
    "### fetch .xlsm and retrieve every sheets content"
   ]
  },
  {
   "cell_type": "code",
   "execution_count": 15,
   "metadata": {},
   "outputs": [
    {
     "name": "stdout",
     "output_type": "stream",
     "text": [
      "SEMAINE 40\n",
      "SEMAINE 41\n",
      "SEMAINE 42\n",
      "SEMAINE 43\n"
     ]
    }
   ],
   "source": [
    "xls = pd.ExcelFile(file_path)\n",
    "\n",
    "sheet_names = xls.sheet_names\n",
    "sheets_content = []\n",
    "sheet_head = []\n",
    "\n",
    "for sheet_name in sheet_names:\n",
    "    df = pd.read_excel(xls, sheet_name=sheet_name, header=None)\n",
    "    print(df.iloc[0, 0])\n",
    "    if df.iloc[0, 0] != sheet_name:\n",
    "        df = df.iloc[1:]\n",
    "        sheet_head.append(True)\n",
    "    else :\n",
    "        sheet_head.append(False)\n",
    "    sheets_content.append(df)\n",
    "\n",
    "workbook = openpyxl.load_workbook(file_path)\n"
   ]
  },
  {
   "cell_type": "markdown",
   "metadata": {},
   "source": [
    "### Convert into dict"
   ]
  },
  {
   "cell_type": "code",
   "execution_count": 25,
   "metadata": {},
   "outputs": [
    {
     "name": "stdout",
     "output_type": "stream",
     "text": [
      "{0: ['SEMAINE 42', nan, 'ISABELLE', 'TRYSTAN', 'NICOLAS', 'DELPHINE', 'ARTHUR', nan, nan, 'T. Phiens', 'RACHEL L.', 'ELODIE', 'JUSTINE', 'SOPHIE', 'FUNDA', 'ALICIA', 'DOROTHEE', 'CINDY', 'ANGELA', 'ANAIS', 'LORINE', 'SARA', 'GENIA', 'DENYS', 'SEVERINE', nan, 'LAURE ', 'RACHEL B.', 'JUSTINE V.', 'T. CPTOIR', 'T,DIPLÔME', 'CHRISTINE T.', 'MARIJA', 'MARYNA', 'MARCELINE', 'VERONIQUE 3', 'FERNANDO', 'MICKAEL', 'MARC ', 'WEDJANE', nan, nan, 'CHRISTINE L.', 'CHRISS', 'SEMAINE 42', nan, 'ISABELLE', 'TRYSTAN', 'NICOLAS', 'DELPHINE', 'ARTHUR', nan, nan, 'T. Phiens', 'RACHEL L.', 'ELODIE', 'JUSTINE', 'SOPHIE', 'FUNDA', 'ALICIA', 'DOROTHEE', 'CINDY', 'ANGELA', 'ANAIS', 'LORINE', 'SARA', 'GENIA', 'DENYS', 'SEVERINE', nan, 'LAURE ', 'RACHEL B.', 'JUSTINE V.', 'T. CPTOIR', 'T,DIPLÔME', 'CHRISTINE T.', 'MARIJA', 'MARYNA', 'MARCELINE', 'VERONIQUE 3', 'FERNANDO', 'MICKAEL', 'MARC ', 'WEDJANE', nan, nan, 'CHRISTINE L.', 'CHRISS', 'SEMAINE 42', nan, 'ISABELLE', 'TRYSTAN', 'NICOLAS', 'DELPHINE', 'ARTHUR', nan, nan, 'T. Phiens', 'RACHEL L.', 'ELODIE', 'JUSTINE', 'SOPHIE', 'FUNDA', 'ALICIA', 'DOROTHEE', 'CINDY', 'ANGELA', 'ANAIS', 'LORINE', 'SARA', 'GENIA', 'DENYS', 'SEVERINE', nan, 'LAURE ', 'RACHEL B.', 'JUSTINE V.', 'T. CPTOIR', 'T. DIPLÔME', 'CHRISTINE T.', 'MARIJA', 'MARYNA', 'MARCELINE', 'VERONIQUE 3', 'FERNANDO', 'MICKAEL', 'MARC ', 'WEDJANE', nan, nan, 'CHRISTINE L.', 'CHRISS', 'SEMAINE 42', nan, 'ISABELLE', 'TRYSTAN', 'NICOLAS', 'DELPHINE', 'ARTHUR', nan, nan, 'T. Phiens', 'RACHEL L.', 'ELODIE', 'JUSTINE', 'SOPHIE', 'FUNDA', 'ALICIA', 'DOROTHEE', 'CINDY', 'ANGELA', 'ANAIS', 'LORINE', 'SARA', 'GENIA', 'DENYS', 'SEVERINE', nan, 'LAURE ', 'RACHEL B.', 'JUSTINE V.', 'T. CPTOIR', 'T. DIPLÔME', 'CHRISTINE T.', 'MARIJA', 'MARYNA', 'MARCELINE', 'VERONIQUE 3', 'FERNANDO', 'MICKAEL', 'MARC ', 'WEDJANE', nan, nan, 'CHRISTINE L.', 'CHRISS', 'SEMAINE 42', nan, 'ISABELLE', 'TRYSTAN', 'NICOLAS', 'DELPHINE', 'ARTHUR', nan, nan, 'T. Phiens', 'RACHEL L.', 'ELODIE', 'JUSTINE', 'SOPHIE', 'FUNDA', 'ALICIA', 'DOROTHEE', 'CINDY', 'ANGELA', 'ANAIS', 'LORINE', 'SARA', 'GENIA', 'DENYS', 'SEVERINE', nan, 'LAURE ', 'RACHEL B.', 'JUSTINE V.', 'T. CPTOIR', 'T. DIPLÔME', 'CHRISTINE T.', 'MARIJA', 'MARYNA', 'MARCELINE', 'VERONIQUE 3', 'FERNANDO', 'MICKAEL', 'MARC ', 'WEDJANE', nan, nan, 'CHRISTINE L.', 'CHRISS', 'SEMAINE 42', nan, 'ISABELLE', 'TRYSTAN', 'NICOLAS', 'DELPHINE', 'ARTHUR', nan, nan, 'T. Phiens', 'RACHEL L.', 'ELODIE', 'JUSTINE', 'SOPHIE', 'FUNDA', 'ALICIA', 'DOROTHEE', 'CINDY', 'ANGELA', 'ANAIS', 'LORINE', 'SARA', 'GENIA', 'DENYS', 'SEVERINE', nan, 'LAURE ', 'RACHEL B.', 'JUSTINE V.', 'T. CPTOIR', 'T. DIPLÔME', 'CHRISTINE T.', 'MARIJA', 'MARYNA', 'MARCELINE', 'VERONIQUE 3', 'FERNANDO', 'MICKAEL', 'MARC ', 'WEDJANE', nan, nan, 'CHRISTINE L.', 'CHRISS'], 1: [datetime.datetime(2024, 10, 14, 0, 0), '8H/9H', nan, ' ', nan, nan, nan, nan, nan, 0, nan, nan, nan, nan, nan, nan, ' ', nan, ' ', nan, nan, nan, nan, nan, nan, nan, nan, nan, nan, 0, 0, 1, 1, nan, 1, ' ', 1, nan, nan, nan, nan, nan, 1, '7h', datetime.datetime(2024, 10, 15, 0, 0), '8H/9H', nan, ' ', nan, nan, nan, nan, nan, 0, nan, nan, ' ', nan, nan, nan, nan, nan, nan, nan, nan, nan, nan, nan, nan, nan, nan, nan, nan, 0, 0, 1, nan, 1, 1, ' ', 1, nan, nan, nan, nan, nan, 1, '7h', datetime.datetime(2024, 10, 16, 0, 0), '8H/9H', nan, nan, nan, nan, nan, nan, nan, 0, nan, nan, nan, nan, nan, nan, nan, nan, nan, nan, nan, nan, nan, nan, nan, nan, nan, nan, nan, 0, 0, 1, 1, ' ', 1, nan, 1, nan, nan, nan, nan, nan, 1, ' ', datetime.datetime(2024, 10, 17, 0, 0), '8H/9H', nan, nan, ' ', nan, nan, nan, nan, 0, nan, nan, nan, nan, nan, nan, nan, nan, nan, nan, nan, nan, nan, nan, nan, nan, nan, nan, nan, 0, 0, 1, nan, 1, 1, nan, 1, nan, nan, nan, nan, nan, 1, '7h', datetime.datetime(2024, 10, 18, 0, 0), '8H/9H', nan, nan, nan, nan, nan, nan, nan, 0, nan, nan, nan, nan, nan, nan, ' ', nan, nan, nan, nan, nan, nan, nan, nan, nan, nan, nan, nan, 0, 0, nan, 1, 1, 1, nan, 1, nan, nan, nan, nan, nan, 1, '7h', datetime.datetime(2024, 10, 19, 0, 0), '8H/9H', nan, nan, nan, nan, nan, nan, nan, 0, nan, nan, nan, ' ', nan, nan, nan, nan, nan, nan, nan, nan, nan, nan, nan, nan, nan, nan, nan, 0, 0, nan, nan, nan, nan, nan, nan, nan, nan, nan, nan, nan, nan, nan], 2: [nan, nan, nan, 1, ' ', nan, nan, nan, nan, 1, nan, 1, nan, nan, 1, ' ', 1, nan, 1, nan, ' ', nan, nan, nan, nan, nan, nan, 1, 1, 7, 5, 1, 1, nan, 1, ' ', 1, ' ', nan, nan, nan, nan, 1, 1, nan, nan, nan, ' ', 1, nan, nan, nan, nan, 1, nan, 1, 1, ' ', 1, nan, nan, nan, 1, nan, nan, nan, 1, nan, nan, nan, nan, 1, nan, 7, 6, 1, nan, 1, 1, ' ', 1, nan, ' ', nan, nan, nan, 1, 1, nan, nan, nan, nan, ' ', 1, nan, nan, nan, 1, nan, 1, nan, nan, nan, nan, nan, nan, nan, nan, ' ', 1, 1, 1, nan, nan, nan, nan, 1, 6, 5, 1, 1, 1, 1, nan, 1, nan, ' ', nan, nan, nan, 1, ' ', nan, nan, nan, nan, nan, 1, nan, nan, nan, 1, nan, nan, nan, nan, 1, nan, 1, nan, nan, nan, 1, nan, nan, 1, nan, nan, nan, nan, 1, 6, 5, 1, nan, 1, 1, nan, 1, ' ', nan, nan, nan, nan, 1, 1, nan, nan, nan, nan, nan, 1, nan, nan, nan, 1, nan, nan, nan, ' ', 1, nan, ' ', nan, nan, nan, ' ', nan, 1, 1, 1, nan, nan, ' ', 1, 6, 5, nan, 1, 1, 1, ' ', 1, ' ', nan, nan, nan, nan, 1, 1, nan, nan, nan, 1, nan, nan, nan, nan, nan, 1, nan, nan, nan, 1, nan, nan, nan, nan, nan, nan, nan, 1, nan, 1, 1, nan, nan, 1, nan, 6, 5, nan, 1, nan, nan, nan, nan, nan, nan, nan, nan, nan, nan, nan], 3: [nan, '9H/10H', nan, 1, ' ', 1, nan, nan, nan, 2, nan, 1, nan, nan, 1, 1, 1, nan, 1, nan, 1, 1, 1, nan, 1, nan, 1, 1, 1, 14, 10, 1, 1, nan, 1, 1, 1, 1, nan, 1, nan, nan, 1, 1, nan, '9H/10H', nan, ' ', 1, 1, nan, nan, nan, 2, nan, 1, 1, 1, 1, 1, nan, ' ', 1, nan, nan, 1, 1, nan, nan, nan, 1, 1, nan, 12, 9, 1, nan, 1, 1, 1, 1, 1, 1, 1, nan, nan, 1, 1, nan, '9H/10H', nan, nan, 1, 1, ' ', nan, nan, 2, nan, 1, nan, nan, nan, nan, 1, nan, ' ', ' ', ' ', 1, 1, 1, 1, nan, 1, nan, 1, 10, 7, 1, 1, 1, 1, nan, 1, nan, 1, 1, nan, nan, 1, 1, nan, '9H/10H', nan, nan, ' ', 1, ' ', nan, nan, 1, nan, nan, 1, nan, 1, 1, 1, ' ', 1, nan, 1, nan, nan, 1, nan, nan, 1, nan, 1, 10, 7, 1, nan, 1, 1, 1, 1, 1, 1, 1, nan, nan, 1, 1, nan, '9H/10H', nan, ' ', nan, 1, 1, nan, nan, 2, nan, nan, 1, ' ', 1, nan, 1, nan, nan, nan, 1, nan, 1, 1, 1, nan, nan, 1, 1, 11, 8, nan, 1, 1, 1, 1, 1, 1, nan, 1, nan, nan, 1, 1, nan, '9H/10H', nan, 1, nan, nan, ' ', nan, nan, 1, nan, nan, ' ', 1, nan, nan, nan, nan, nan, ' ', nan, 1, nan, 1, 1, nan, nan, 1, nan, 6, 5, nan, 1, nan, nan, nan, nan, nan, 1, nan, nan, nan, nan, nan], 4: [nan, nan, nan, 1, ' ', 1, nan, nan, nan, 2, nan, 1, nan, nan, 1, 1, 1, nan, 1, nan, 1, 1, 1, nan, 1, nan, 1, 1, 1, 14, 10, 1, 1, nan, 1, 1, 1, 1, nan, 1, nan, nan, 1, 1, nan, nan, nan, 1, 1, 1, nan, nan, nan, 3, nan, 1, 1, 1, 1, 1, nan, 1, 1, nan, nan, 1, 1, nan, nan, nan, 1, 1, nan, 14, 11, 1, nan, 1, 1, 1, 1, 1, 1, 1, nan, nan, 1, 1, nan, nan, nan, nan, 1, 1, 1, nan, nan, 3, nan, 1, nan, nan, nan, nan, 1, nan, 1, 1, 1, 1, 1, 1, 1, nan, 1, nan, 1, 14, 11, 1, 1, 1, 1, nan, 1, nan, 1, 1, nan, nan, 1, 1, nan, nan, nan, nan, ' ', 1, ' ', nan, nan, 1, nan, nan, 1, nan, 1, 1, 1, 1, 1, nan, 1, nan, nan, 1, nan, nan, 1, nan, 1, 11, 8, 1, nan, 1, 1, 1, 1, 1, 1, 1, nan, nan, 1, 1, nan, nan, nan, ' ', nan, 1, 1, nan, nan, 2, nan, nan, 1, 1, 1, nan, 1, nan, nan, nan, 1, nan, 1, 1, 1, nan, nan, 1, 1, 12, 9, nan, 1, 1, 1, 1, 1, 1, nan, 1, nan, nan, 1, 1, nan, nan, nan, 1, nan, nan, 1, nan, nan, 2, nan, nan, 1, 1, nan, nan, nan, nan, nan, 1, nan, 1, nan, 1, 1, nan, nan, 1, nan, 9, 8, nan, 1, nan, nan, nan, nan, nan, 1, nan, nan, nan, nan, nan], 5: [nan, '10H/11H', nan, 1, 1, 1, nan, nan, nan, 3, nan, 1, nan, nan, 1, 1, 1, nan, 1, nan, 1, 1, 1, nan, 1, nan, 1, 1, 1, 15, 11, 1, 1, nan, 1, 1, 1, 1, nan, 1, nan, nan, 1, 1, nan, '10H/11H', nan, 1, 1, 1, nan, nan, nan, 3, nan, 1, 1, 1, 1, 1, nan, 1, 1, nan, nan, 1, 1, nan, nan, nan, 1, 1, nan, 14, 11, 1, nan, 1, 1, 1, 1, 1, 1, 1, nan, nan, 1, 1, nan, '10H/11H', nan, nan, 1, 1, 1, nan, nan, 3, nan, 1, nan, nan, nan, nan, 1, nan, 1, 1, 1, 1, 1, 1, 1, nan, 1, nan, 1, 14, 11, 1, 1, 1, 1, nan, 1, nan, 1, 1, nan, nan, 1, 1, nan, '10H/11H', nan, nan, 1, 1, 1, nan, nan, 3, nan, nan, 1, nan, 1, 1, 1, 1, 1, nan, 1, nan, nan, 1, nan, nan, 1, nan, 1, 13, 10, 1, nan, 1, 1, 1, 1, 1, 1, 1, nan, nan, 1, 1, nan, '10H/11H', nan, 1, nan, 1, 1, nan, nan, 3, nan, nan, 1, 1, 1, nan, 1, nan, nan, nan, 1, nan, 1, 1, 1, nan, nan, 1, 1, 13, 10, nan, 1, 1, 1, 1, 1, 1, nan, 1, nan, nan, 1, 1, nan, '10H/11H', nan, 1, nan, nan, 1, nan, nan, 2, nan, nan, 1, 1, nan, nan, nan, nan, nan, 1, nan, 1, nan, 1, 1, nan, nan, 1, nan, 9, 8, nan, 1, nan, nan, nan, nan, nan, 1, nan, nan, nan, nan, nan], 6: [nan, nan, nan, 1.0, 1.0, 1.0, nan, nan, nan, 3.0, nan, 1.0, nan, nan, 1.0, 1.0, 1.0, nan, 1.0, nan, 1.0, 1.0, 1.0, nan, 1.0, nan, 1.0, 1.0, 1.0, 15.0, 11.0, 1.0, 1.0, nan, 1.0, 1.0, 1.0, 1.0, nan, 1.0, nan, nan, 1.0, 1.0, nan, nan, nan, 1.0, 1.0, 1.0, nan, nan, nan, 3.0, nan, 1.0, 1.0, 1.0, 1.0, 1.0, nan, 1.0, 1.0, nan, nan, 1.0, 1.0, nan, nan, nan, 1.0, 1.0, nan, 14.0, 11.0, 1.0, nan, 1.0, 1.0, 1.0, 1.0, 1.0, 1.0, 1.0, nan, nan, 1.0, 1.0, nan, nan, nan, nan, 1.0, 1.0, 1.0, nan, nan, 3.0, nan, 1.0, nan, nan, nan, nan, 1.0, nan, 1.0, 1.0, 1.0, 1.0, 1.0, 1.0, 1.0, nan, 1.0, nan, 1.0, 14.0, 11.0, 1.0, 1.0, 1.0, 1.0, nan, 1.0, nan, 1.0, 1.0, nan, nan, 1.0, 1.0, nan, nan, nan, nan, 1.0, 1.0, 1.0, nan, nan, 3.0, nan, nan, 1.0, nan, 1.0, 1.0, 1.0, 1.0, 1.0, nan, 1.0, nan, nan, 1.0, nan, nan, 1.0, nan, 1.0, 13.0, 10.0, 1.0, nan, 1.0, 1.0, 1.0, 1.0, 1.0, 1.0, 1.0, nan, nan, 1.0, 1.0, nan, nan, nan, 1.0, nan, 1.0, 1.0, nan, nan, 3.0, nan, nan, 1.0, 1.0, 1.0, nan, 1.0, nan, nan, nan, 1.0, nan, 1.0, 1.0, 1.0, nan, nan, 1.0, 1.0, 13.0, 10.0, nan, 1.0, 1.0, 1.0, 1.0, 1.0, 1.0, nan, 1.0, nan, nan, 1.0, 1.0, nan, nan, nan, 1.0, nan, nan, 1.0, nan, nan, 2.0, nan, nan, 1.0, 1.0, nan, nan, nan, nan, nan, 1.0, nan, 1.0, nan, 1.0, 1.0, nan, nan, 1.0, nan, 9.0, 8.0, nan, 1.0, nan, nan, nan, nan, nan, 1.0, nan, nan, nan, nan, nan], 7: [nan, '11H/12H', nan, 1, 1, 1, nan, nan, nan, 3, nan, 1, nan, nan, 1, 1, 1, nan, 1, nan, 1, 1, 1, nan, 1, nan, 1, 1, 1, 15, 11, 1, 1, nan, 1, 1, 1, 1, nan, 1, nan, nan, 1, 1, nan, '11H/12H', nan, 1, 1, 1, nan, nan, nan, 3, nan, 1, 1, 1, 1, 1, nan, 1, 1, nan, nan, 1, 1, nan, nan, nan, 1, 1, nan, 14, 11, 1, nan, 1, 1, 1, 1, 1, 1, 1, nan, nan, 1, 1, nan, '11H/12H', nan, nan, 1, 1, 1, nan, nan, 3, nan, 1, nan, nan, nan, nan, 1, nan, 1, 1, 1, 1, 1, 1, 1, nan, 1, nan, 1, 14, 11, 1, 1, 1, 1, nan, 1, nan, 1, 1, nan, nan, 1, 1, nan, '11H/12H', nan, nan, 1, 1, 1, nan, nan, 3, nan, nan, 1, nan, 1, 1, 1, 1, 1, nan, 1, nan, nan, 1, nan, nan, 1, nan, 1, 13, 10, 1, nan, 1, 1, 1, 1, 1, 1, 1, nan, nan, 1, 1, nan, '11H/12H', nan, 1, nan, 1, 1, nan, nan, 3, nan, nan, 1, 1, 1, nan, 1, nan, nan, nan, 1, nan, 1, 1, 1, nan, nan, 1, 1, 13, 10, nan, 1, 1, 1, 1, 1, 1, nan, 1, nan, nan, 1, 1, nan, '11H/12H', nan, 1, nan, nan, 1, nan, nan, 2, nan, nan, 1, 1, nan, nan, nan, nan, nan, 1, nan, 1, nan, 1, 1, nan, nan, 1, nan, 9, 8, nan, 1, nan, nan, nan, nan, nan, 1, nan, nan, nan, nan, nan], 8: [nan, nan, nan, 1, 1, 1, nan, nan, nan, 3, nan, 1, nan, nan, 1, 1, 1, nan, 1, nan, 1, 1, 1, nan, 1, nan, 1, 1, 1, 15, 11, 1, 1, nan, 1, 1, 1, 1, nan, 1, nan, nan, 1, 1, nan, nan, nan, 1, 1, 1, nan, nan, nan, 3, nan, 1, 1, 1, ' ', 1, nan, 1, 1, nan, nan, 1, 1, nan, nan, nan, 1, 1, nan, 13, 10, 1, nan, 1, 1, 1, 1, 1, 1, 1, nan, nan, 1, 1, nan, nan, nan, nan, 1, 1, 1, nan, nan, 3, nan, 1, nan, nan, nan, nan, 1, nan, 1, 1, 1, 1, 1, 1, 1, nan, 1, nan, 1, 14, 11, 1, 1, 1, 1, nan, 1, nan, 1, 1, nan, nan, 1, 1, nan, nan, nan, nan, 1, 1, 1, nan, nan, 3, nan, nan, 1, nan, 1, 1, 1, 1, 1, nan, 1, nan, nan, 1, nan, nan, 1, nan, 1, 13, 10, 1, nan, 1, 1, 1, 1, 1, 1, 1, nan, nan, 1, 1, nan, nan, nan, 1, nan, 1, 1, nan, nan, 3, nan, nan, 1, 1, ' ', nan, 1, nan, nan, nan, 1, nan, 1, 1, 1, nan, nan, 1, 1, 12, 9, nan, 1, 1, 1, 1, 1, 1, nan, 1, nan, nan, 1, 1, nan, nan, nan, 1, nan, nan, 1, nan, nan, 2, nan, nan, 1, 1, nan, nan, nan, nan, nan, 1, nan, 1, nan, 1, 1, nan, nan, 1, nan, 9, 8, nan, 1, nan, nan, nan, nan, nan, 1, nan, nan, nan, nan, nan], 9: [nan, '12H/13H', nan, ' ', 1, nan, nan, nan, nan, 1, nan, nan, ' ', nan, 1, 1, nan, nan, 1, nan, ' ', 1, nan, nan, 1, nan, 1, nan, 1, 8, 6, 1, 1, nan, ' ', 1, nan, 1, nan, nan, nan, nan, ' ', nan, nan, '12H/13H', nan, ' ', 1, nan, nan, nan, nan, 1, nan, 1, ' ', ' ', ' ', 1, nan, 1, nan, nan, nan, ' ', 1, nan, nan, nan, 1, ' ', nan, 6, 5, 1, nan, ' ', ' ', 1, nan, nan, 1, 1, nan, nan, ' ', nan, nan, '12H/13H', nan, nan, 1, nan, 1, nan, nan, 2, nan, ' ', nan, nan, nan, nan, ' ', nan, 1, 1, 1, 1, nan, nan, 1, nan, nan, nan, 1, 8, 7, 1, 1, 1, nan, nan, nan, nan, 1, 1, nan, nan, ' ', nan, nan, '12H/13H', nan, nan, 1, ' ', 1, nan, nan, 2, nan, nan, nan, nan, 1, 1, 1, ' ', 1, nan, nan, nan, nan, 1, nan, nan, 1, nan, 1, 9, 7, 1, nan, 1, ' ', 1, nan, nan, 1, 'C', nan, nan, ' ', nan, nan, '12H/13H', nan, 1, nan, ' ', 1, nan, nan, 2, nan, nan, ' ', ' ', ' ', nan, ' ', nan, nan, nan, 1, nan, 1, 1, nan, nan, nan, nan, 1, 6, 5, nan, 1, 1, ' ', ' ', nan, nan, nan, 'C', nan, nan, ' ', nan, nan, '12H/13H', nan, 1, nan, nan, ' ', nan, nan, 1, nan, nan, 1, ' ', nan, nan, nan, nan, nan, 1, nan, 1, nan, 1, nan, nan, nan, 1, nan, 6, 5, nan, 1, nan, nan, nan, nan, nan, nan, nan, nan, nan, nan, nan], 10: [nan, nan, nan, ' ', 1, nan, nan, nan, nan, 1, nan, nan, nan, nan, ' ', 1, nan, nan, 1, nan, ' ', 1, nan, nan, 1, nan, ' ', nan, 1, 6, 5, ' ', nan, nan, ' ', 1, nan, 1, nan, nan, nan, nan, nan, nan, nan, nan, nan, ' ', 1, nan, nan, nan, nan, 1, nan, 1, ' ', nan, ' ', 1, nan, 1, nan, nan, nan, ' ', 1, nan, nan, nan, 1, ' ', nan, 6, 5, ' ', nan, ' ', ' ', 1, nan, nan, 1, 1, nan, nan, nan, nan, nan, nan, nan, nan, 1, nan, 1, nan, nan, 2, nan, ' ', nan, nan, nan, nan, ' ', nan, 1, nan, 1, 1, nan, nan, 1, nan, 1, nan, 1, 8, 6, nan, nan, nan, nan, nan, nan, nan, 1, 1, nan, nan, nan, nan, nan, nan, nan, nan, 1, ' ', 1, nan, nan, 2, nan, nan, nan, nan, nan, 1, 1, ' ', 1, nan, nan, nan, nan, 1, nan, nan, ' ', nan, 1, 7, 6, ' ', nan, nan, ' ', 1, nan, nan, 1, 'F', nan, nan, nan, nan, nan, nan, nan, 1, nan, ' ', 1, nan, nan, 2, nan, nan, ' ', ' ', ' ', nan, ' ', nan, nan, nan, 1, nan, 1, 1, nan, nan, nan, nan, 1, 6, 5, nan, nan, ' ', ' ', ' ', nan, nan, nan, 'F', nan, nan, nan, nan, nan, nan, nan, 1, nan, nan, ' ', nan, nan, 1, nan, nan, nan, ' ', nan, nan, nan, nan, nan, 1, nan, 1, nan, nan, nan, nan, nan, 1, nan, 4, 3, nan, 1, nan, nan, nan, nan, nan, nan, nan, nan, nan, nan, nan], 11: [nan, '13H/14H', nan, 1, 1, nan, nan, nan, nan, 2, nan, 1, nan, nan, 1, ' ', ' ', nan, ' ', nan, ' ', nan, ' ', nan, nan, nan, 1, 1, nan, 6, 4, ' ', nan, nan, 1, ' ', 1, ' ', 1, nan, nan, nan, 1, nan, nan, '13H/14H', nan, 1, 1, nan, nan, nan, nan, 2, nan, nan, 1, nan, ' ', 1, nan, ' ', nan, nan, nan, ' ', nan, nan, nan, nan, nan, 1, nan, 5, 4, ' ', nan, ' ', 1, ' ', 1, 1, ' ', nan, nan, nan, 1, nan, nan, '13H/14H', nan, nan, 1, nan, nan, nan, nan, 1, nan, 1, nan, nan, nan, nan, 1, nan, nan, nan, ' ', nan, 1, 1, nan, nan, 1, nan, nan, 6, 5, nan, nan, nan, 1, nan, nan, nan, ' ', nan, nan, nan, 1, nan, nan, '13H/14H', nan, nan, 1, 1, nan, nan, nan, 2, nan, nan, 1, nan, 1, nan, nan, 1, ' ', nan, nan, nan, nan, nan, nan, nan, 1, nan, nan, 6, 5, nan, nan, nan, 1, nan, 1, 1, ' ', 'A', nan, nan, 1, nan, nan, '13H/14H', nan, nan, nan, 1, nan, nan, nan, 1, nan, nan, 1, ' ', ' ', nan, 1, nan, nan, nan, ' ', nan, nan, nan, 1, nan, nan, 1, nan, 5, 4, nan, nan, nan, 1, 1, 1, 1, nan, 'A', nan, nan, 1, nan, nan, '13H/14H', nan, ' ', nan, nan, 1, nan, nan, 1, nan, nan, nan, 1, nan, nan, nan, nan, nan, nan, nan, nan, nan, 1, 1, nan, nan, nan, nan, 4, 4, nan, nan, nan, nan, nan, nan, nan, nan, nan, nan, nan, nan, nan], 12: [nan, nan, nan, 1, 1, nan, nan, nan, nan, 2, nan, 1, nan, nan, 1, ' ', ' ', nan, ' ', nan, ' ', nan, ' ', nan, nan, nan, 1, 1, nan, 6, 4, ' ', nan, nan, 1, ' ', 1, ' ', 1, nan, nan, nan, 1, nan, nan, nan, nan, 1, 1, nan, nan, nan, nan, 2, nan, nan, 1, nan, 1, nan, nan, ' ', nan, nan, nan, ' ', nan, nan, nan, nan, 1, 1, nan, 6, 4, ' ', nan, ' ', 1, ' ', 1, 1, ' ', nan, nan, nan, 1, nan, nan, nan, nan, nan, 1, nan, nan, nan, nan, 1, nan, 1, nan, nan, nan, nan, 1, nan, nan, 1, ' ', nan, 1, 1, nan, nan, 1, nan, ' ', 7, 6, nan, nan, nan, 1, nan, nan, nan, ' ', nan, nan, nan, 1, nan, nan, nan, nan, nan, 1, 1, nan, nan, nan, 2, nan, ' ', 1, nan, 1, nan, nan, 1, ' ', nan, nan, nan, nan, nan, nan, nan, 1, nan, nan, 6, 5, nan, nan, nan, 1, nan, 1, 1, ' ', nan, nan, nan, 1, nan, nan, nan, nan, nan, nan, 1, nan, nan, nan, 1, nan, nan, 1, ' ', 1, nan, 1, nan, nan, nan, ' ', nan, nan, nan, 1, nan, nan, 1, nan, 6, 5, nan, nan, nan, 1, 1, 1, 1, nan, nan, nan, nan, 1, nan, nan, nan, nan, ' ', nan, nan, 1, nan, nan, 1, nan, nan, 1, 1, nan, nan, nan, nan, nan, nan, nan, nan, nan, 1, 1, nan, nan, nan, nan, 5, 5, nan, nan, nan, nan, nan, nan, nan, nan, nan, nan, nan, nan, nan], 13: [nan, '14H/15H', nan, 1, ' ', 1, nan, nan, nan, 2, nan, 1, nan, nan, 1, 1, 1, nan, 1, nan, 1, 1, 1, nan, 1, nan, 1, 1, ' ', 13, 10, ' ', nan, nan, 1, 1, 1, 1, 1, 1, nan, nan, 1, nan, nan, '14H/15H', nan, 1, ' ', 1, nan, nan, nan, 2, nan, nan, 1, 1, 1, nan, nan, 1, 1, nan, 1, 1, 1, nan, nan, nan, 1, 1, nan, 12, 9, ' ', nan, 1, 1, 1, 1, 1, 1, nan, nan, nan, 1, nan, nan, '14H/15H', nan, nan, ' ', 1, 1, nan, nan, 2, nan, 1, nan, nan, nan, nan, 1, nan, 1, 1, 1, 1, 1, 1, 1, nan, 1, nan, 1, 13, 10, 1, 1, 1, 1, nan, nan, nan, 1, 1, nan, nan, 1, nan, nan, '14H/15H', nan, nan, ' ', 1, 1, nan, nan, 2, nan, 1, 1, nan, 1, 1, 1, 1, 1, nan, nan, nan, nan, 1, nan, nan, 1, nan, 1, 12, 9, 1, nan, 1, 1, 1, 1, 1, 1, 1, nan, nan, 1, nan, nan, '14H/15H', nan, 1, nan, 1, 1, nan, nan, 3, nan, nan, 1, 1, 1, nan, 1, nan, nan, nan, 1, nan, ' ', 1, 1, nan, nan, 1, 1, 12, 9, nan, 1, 1, 1, 1, 1, 1, nan, 1, nan, nan, 1, nan, nan, '14H/15H', nan, ' ', nan, nan, 1, nan, nan, 1, nan, nan, 1, 1, nan, nan, nan, nan, nan, 1, nan, 1, nan, 1, 1, nan, nan, 1, nan, 8, 7, nan, 1, nan, nan, nan, nan, nan, nan, nan, nan, nan, nan, nan], 14: [nan, nan, nan, 1, 1, 1, nan, nan, nan, 3, nan, 1, nan, nan, 1, 1, 1, nan, 1, nan, 1, 1, 1, nan, 1, nan, 1, 1, ' ', 14, 11, 1, 1, nan, 1, 1, 1, 1, 1, 1, nan, nan, 1, nan, nan, nan, nan, 1, 1, 1, nan, nan, nan, 3, nan, nan, 1, 1, 1, nan, nan, 1, 1, nan, 1, 1, 1, nan, nan, nan, 1, 1, nan, 13, 10, 1, nan, 1, 1, 1, 1, 1, 1, nan, nan, nan, 1, nan, nan, nan, nan, nan, 1, 1, 1, nan, nan, 3, nan, 1, nan, nan, nan, nan, 1, nan, 1, 1, 1, 1, 1, 1, 1, nan, 1, nan, 1, 14, 11, 1, 1, 1, 1, nan, nan, nan, 1, 1, nan, nan, 1, nan, nan, nan, nan, nan, 1, 1, 1, nan, nan, 3, nan, 1, 1, nan, 1, 1, 1, 1, 1, nan, nan, nan, nan, 1, nan, nan, 1, nan, 1, 13, 10, 1, nan, 1, 1, 1, 1, 1, 1, 1, nan, nan, 1, nan, nan, nan, nan, 1, nan, 1, 1, nan, nan, 3, nan, nan, 1, 1, 1, nan, 1, nan, nan, nan, 1, nan, ' ', 1, 1, nan, nan, 1, 1, 12, 9, nan, 1, 1, 1, 1, 1, 1, nan, 1, nan, nan, 1, nan, nan, nan, nan, 1, nan, nan, 1, nan, nan, 2, nan, nan, 1, 1, nan, nan, nan, nan, nan, 1, nan, 1, nan, 1, 1, nan, nan, 1, nan, 9, 8, nan, 1, nan, nan, nan, nan, nan, nan, nan, nan, nan, nan, nan], 15: [nan, '15H/16H', nan, 1, 1, 1, nan, nan, nan, 3, nan, 1, nan, nan, 1, 1, 1, nan, 1, nan, 1, 1, 1, nan, 1, nan, 1, 1, 1, 15, 11, 1, 1, nan, 1, 1, 1, 1, 1, 1, nan, nan, 1, nan, nan, '15H/16H', nan, 1, 1, 1, nan, nan, nan, 3, nan, nan, 1, 1, 1, nan, nan, 1, 1, nan, 1, 1, 1, nan, nan, nan, 1, 1, nan, 13, 10, 1, nan, 1, 1, 1, 1, 1, 1, nan, nan, nan, 1, nan, nan, '15H/16H', nan, nan, 1, 1, 1, nan, nan, 3, nan, 1, nan, nan, nan, nan, 1, nan, 1, 1, 1, 1, 1, 1, 1, nan, 1, nan, 1, 14, 11, 1, 1, 1, 1, nan, nan, nan, 1, 1, nan, nan, 1, nan, nan, '15H/16H', nan, nan, 1, 1, 1, nan, nan, 3, nan, 1, 1, nan, 1, 1, 1, 1, 1, nan, nan, nan, nan, 1, nan, nan, 1, nan, 1, 13, 10, 1, nan, 1, 1, 1, 1, 1, 1, 1, nan, nan, 1, nan, nan, '15H/16H', nan, 1, nan, 1, 1, nan, nan, 3, nan, nan, 1, 1, 1, nan, 1, nan, nan, nan, 1, nan, 1, 1, 1, nan, nan, 1, 1, 13, 10, nan, 1, 1, 1, 1, 1, 1, nan, 1, nan, nan, 1, nan, nan, '15H/16H', nan, 1, nan, nan, 1, nan, nan, 2, nan, nan, 1, 1, nan, nan, nan, nan, nan, 1, nan, 1, nan, 1, 1, nan, nan, 1, nan, 9, 8, nan, 1, nan, nan, nan, nan, nan, nan, nan, nan, nan, nan, nan], 16: [nan, nan, nan, 1.0, 1.0, 1.0, nan, nan, nan, 3.0, nan, 1.0, nan, nan, 1.0, 1.0, 1.0, nan, 1.0, nan, 1.0, 1.0, 1.0, nan, 1.0, nan, 1.0, 1.0, 1.0, 15.0, 11.0, 1.0, 1.0, nan, 1.0, 1.0, 1.0, 1.0, 1.0, 1.0, nan, nan, 1.0, nan, nan, nan, nan, 1.0, 1.0, 1.0, nan, nan, nan, 3.0, nan, nan, 1.0, 1.0, 1.0, nan, nan, 1.0, 1.0, nan, 1.0, 1.0, 1.0, nan, nan, nan, 1.0, 1.0, nan, 13.0, 10.0, 1.0, nan, 1.0, 1.0, 1.0, 1.0, 1.0, 1.0, nan, nan, nan, 1.0, nan, nan, nan, nan, nan, 1.0, 1.0, 1.0, nan, nan, 3.0, nan, 1.0, nan, nan, nan, nan, 1.0, nan, 1.0, 1.0, 1.0, 1.0, 1.0, 1.0, 1.0, nan, 1.0, nan, 1.0, 14.0, 11.0, 1.0, 1.0, 1.0, 1.0, nan, nan, nan, 1.0, 1.0, nan, nan, 1.0, nan, nan, nan, nan, nan, 1.0, 1.0, 1.0, nan, nan, 3.0, nan, 1.0, 1.0, nan, 1.0, 1.0, 1.0, 1.0, 1.0, nan, nan, nan, nan, 1.0, nan, nan, 1.0, nan, 1.0, 13.0, 10.0, 1.0, nan, 1.0, 1.0, 1.0, 1.0, 1.0, 1.0, 1.0, nan, nan, 1.0, nan, nan, nan, nan, 1.0, nan, 1.0, 1.0, nan, nan, 3.0, nan, nan, 1.0, 1.0, 1.0, nan, 1.0, nan, nan, nan, 1.0, nan, 1.0, 1.0, 1.0, nan, nan, 1.0, 1.0, 13.0, 10.0, nan, 1.0, 1.0, 1.0, 1.0, 1.0, 1.0, nan, 1.0, nan, nan, 1.0, nan, nan, nan, nan, 1.0, nan, nan, 1.0, nan, nan, 2.0, nan, nan, 1.0, 1.0, nan, nan, nan, nan, nan, 1.0, nan, 1.0, nan, 1.0, 1.0, nan, nan, 1.0, nan, 9.0, 8.0, nan, 1.0, nan, nan, nan, nan, nan, nan, nan, nan, nan, nan, nan], 17: [nan, '16H/17H', nan, 1, 1, 1, nan, nan, nan, 3, nan, 1, nan, nan, 1, 1, 1, nan, 1, nan, 1, 1, 1, nan, 1, nan, 1, 1, 1, 15, 11, 1, 1, nan, ' ', 1, 1, 1, 1, 1, nan, nan, ' ', nan, nan, '16H/17H', nan, 1, 1, 1, nan, nan, nan, 3, nan, nan, 1, 1, 1, nan, nan, 1, 1, nan, 1, 1, 1, nan, nan, nan, 1, 1, nan, 13, 10, 1, nan, 1, ' ', 1, 1, 1, 1, nan, nan, nan, ' ', nan, nan, '16H/17H', nan, nan, 1, 1, 1, nan, nan, 3, nan, 1, nan, nan, nan, nan, 1, nan, 1, 1, 1, 1, 1, 1, 1, nan, 1, nan, 1, 14, 11, 1, 1, 1, nan, nan, nan, nan, 1, 1, nan, nan, ' ', nan, nan, '16H/17H', nan, nan, 1, 1, 1, nan, nan, 3, nan, 1, 1, nan, 1, 1, 1, 1, 1, nan, nan, nan, nan, 1, nan, nan, 1, nan, 1, 13, 10, 1, nan, 1, ' ', 1, 1, 1, 1, 1, nan, nan, ' ', nan, nan, '16H/17H', nan, 1, nan, 1, 1, nan, nan, 3, nan, nan, 1, 1, 1, nan, 1, nan, nan, nan, 1, nan, 1, 1, 1, nan, nan, 1, 1, 13, 10, nan, 1, 1, ' ', 1, nan, 1, nan, 1, nan, nan, ' ', nan, nan, '16H/17H', nan, 1, nan, nan, 1, nan, nan, 2, nan, nan, 1, 1, nan, nan, nan, nan, nan, 1, nan, 1, nan, 1, 1, nan, nan, 1, nan, 9, 8, nan, 1, nan, nan, nan, nan, nan, nan, nan, nan, nan, nan, nan], 18: [nan, nan, nan, 1, 1, 1, nan, nan, nan, 3, nan, 1, nan, nan, 1, 1, 1, nan, 1, nan, 1, 1, 1, nan, 1, nan, 1, 1, 1, 15, 11, 1, 1, nan, ' ', 1, 1, 1, 1, 1, nan, nan, nan, nan, nan, nan, nan, 1, 1, 1, nan, nan, nan, 3, nan, nan, 1, 1, 1, nan, nan, 1, 1, nan, 1, 1, 1, nan, nan, nan, 1, 1, nan, 13, 10, 1, nan, 1, ' ', 1, 1, 1, 1, nan, nan, nan, nan, nan, nan, nan, nan, nan, 1, 1, 1, nan, nan, 3, nan, 1, nan, nan, nan, nan, 1, nan, 1, 1, 1, 1, 1, 1, 1, nan, 1, nan, 1, 14, 11, 1, 1, 1, nan, nan, nan, nan, 1, 1, nan, nan, nan, nan, nan, nan, nan, nan, 1, 1, 1, nan, nan, 3, nan, 1, 1, nan, ' ', 1, 1, 1, 1, nan, nan, nan, nan, 1, nan, nan, 1, nan, 1, 12, 9, 1, nan, 1, ' ', 1, 1, 1, 1, 1, nan, nan, nan, nan, nan, nan, nan, 1, nan, 1, 1, nan, nan, 3, nan, nan, 1, 1, 1, nan, 1, nan, nan, nan, 1, nan, 1, 1, 1, nan, nan, 1, 1, 13, 10, nan, 1, 1, ' ', 1, nan, 1, nan, 1, nan, nan, nan, nan, nan, nan, nan, 1, nan, nan, 1, nan, nan, 2, nan, nan, 1, 1, nan, nan, nan, nan, nan, 1, nan, 1, nan, 1, 1, nan, nan, 1, nan, 9, 8, nan, 1, nan, nan, nan, nan, nan, nan, nan, nan, nan, nan, nan], 19: [nan, '17H/18H', nan, 1, 1, 1, nan, nan, nan, 3, nan, 1, nan, nan, ' ', 1, 1, nan, 1, nan, 1, 1, 1, nan, 1, nan, 1, ' ', 1, 13, 10, 1, 1, nan, ' ', 1, '  ', 1, 1, 1, nan, nan, nan, 1, nan, '17H/18H', nan, 1, 1, 1, nan, nan, nan, 3, nan, nan, 1, 1, ' ', nan, nan, 1, 1, nan, 1, 1, 1, nan, nan, nan, 1, 1, nan, 12, 9, 1, nan, 1, ' ', 1, '  ', 1, 1, nan, nan, nan, nan, ' ', nan, '17H/18H', nan, nan, 1, 1, 1, nan, nan, 3, nan, 1, nan, ' ', nan, nan, 1, nan, 1, 1, 1, 1, 1, 1, 1, nan, nan, nan, 1, 13, 11, 1, 1, 1, nan, nan, nan, nan, 1, 1, nan, nan, nan, 1, nan, '17H/18H', nan, nan, 1, 1, 1, nan, nan, 3, nan, 1, 1, nan, ' ', 1, 1, 1, 1, nan, nan, nan, nan, 1, nan, nan, 1, nan, 1, 12, 9, 1, nan, 1, ' ', 1, '  ', 1, 1, 1, nan, nan, nan, 1, nan, '17H/18H', nan, 1, nan, 1, 1, nan, nan, 3, nan, nan, 1, 1, ' ', nan, 1, nan, nan, nan, 1, nan, 1, 1, 1, nan, nan, 1, ' ', 11, 9, nan, 1, 1, ' ', 1, nan, 1, nan, 1, nan, nan, nan, ' ', nan, '17H/18H', nan, 1, nan, nan, 1, nan, nan, 2, nan, nan, 1, 1, nan, nan, nan, nan, nan, 1, nan, 1, nan, 1, ' ', nan, nan, 1, nan, 8, 7, nan, 1, nan, nan, nan, nan, nan, nan, nan, nan, nan, nan, nan], 20: [nan, nan, nan, 1, 1, 1, nan, nan, nan, 3, nan, ' ', nan, nan, ' ', 1, 1, nan, 1, nan, 1, 1, 1, nan, 1, nan, 1, ' ', 1, 12, 9, 1, 1, nan, nan, 1, ' ', 1, 1, 1, nan, nan, nan, 1, nan, nan, nan, 1, 1, 1, nan, nan, nan, 3, nan, nan, 1, 1, ' ', nan, nan, 1, 1, nan, 1, 1, 1, nan, nan, nan, 1, 1, nan, 12, 9, 1, nan, 1, nan, 1, ' ', 1, 1, nan, nan, nan, nan, 1, nan, nan, nan, nan, 1, 1, 1, nan, nan, 3, nan, 1, nan, nan, nan, nan, 1, nan, 1, 1, 1, 1, 1, ' ', 1, nan, nan, nan, 1, 12, 10, 1, 1, 1, nan, nan, nan, nan, 1, 1, nan, nan, nan, 1, nan, nan, nan, nan, 1, 1, 1, nan, nan, 3, nan, 1, 1, nan, ' ', 1, 1, 1, 1, nan, nan, nan, nan, 1, nan, nan, 1, nan, 1, 12, 9, 1, nan, 1, ' ', 1, ' ', 1, 1, 1, nan, nan, nan, 1, nan, nan, nan, 1, nan, 1, 1, nan, nan, 3, nan, nan, 1, 1, ' ', nan, 1, nan, nan, nan, 1, nan, 1, 1, 1, nan, nan, 1, ' ', 11, 9, nan, 1, 1, ' ', 1, nan, 1, nan, 1, nan, nan, nan, 1, nan, nan, nan, 1, nan, nan, 1, nan, nan, 2, nan, nan, 1, 1, nan, nan, nan, nan, nan, 1, nan, 1, nan, ' ', nan, nan, nan, 1, nan, 7, 6, nan, 1, nan, nan, nan, nan, nan, nan, nan, nan, nan, nan, nan], 21: [nan, '18H19H', nan, 1, 1, 1, nan, nan, nan, 3, nan, ' ', nan, nan, ' ', 1, ' ', nan, 1, nan, 1, 1, 1, nan, 1, nan, 1, ' ', 1, 11, 9, 1, ' ', nan, nan, ' ', ' ', 1, 1, nan, nan, nan, nan, 1, nan, '18H19H', nan, 1, 1, 1, nan, nan, nan, 3, nan, nan, 1, 1, ' ', nan, nan, 1, nan, nan, 1, 1, 1, nan, nan, nan, nan, 1, nan, 10, 9, 1, nan, ' ', nan, 1, ' ', 1, 1, nan, nan, nan, nan, 1, nan, '18H19H', nan, nan, ' ', 1, 1, nan, nan, 2, nan, 1, nan, nan, nan, nan, 1, nan, 1, 1, 1, ' ', 1, nan, 1, nan, nan, nan, 1, 10, 9, 1, ' ', ' ', nan, nan, nan, nan, 1, nan, nan, nan, nan, 1, nan, '18H19H', nan, nan, 1, 1, 1, nan, nan, 3, nan, ' ', 1, nan, ' ', nan, 1, 1, 1, nan, nan, nan, nan, 1, nan, nan, nan, nan, 1, 9, 8, ' ', nan, 1, ' ', 1, ' ', 1, 1, 1, nan, nan, nan, 1, nan, '18H19H', nan, 1, nan, 1, 1, nan, nan, 3, nan, nan, nan, 1, ' ', nan, 1, nan, nan, nan, 1, nan, 1, 1, 1, nan, nan, 1, ' ', 10, 9, nan, 1, 1, ' ', 1, nan, 1, nan, 1, nan, nan, nan, 1, nan, '18H19H', nan, ' ', nan, nan, 1, nan, nan, 1, nan, nan, 1, ' ', nan, nan, nan, nan, nan, 1, nan, 1, nan, nan, nan, nan, nan, 1, nan, 5, 4, nan, 1, nan, nan, nan, nan, nan, nan, nan, nan, nan, nan, nan], 22: [nan, nan, nan, 1, 1, 1, nan, nan, nan, 3, nan, ' ', nan, nan, ' ', 1, ' ', nan, 1, nan, 1, 1, 1, nan, 1, nan, 1, ' ', 1, 11, 9, 1, ' ', nan, nan, ' ', ' ', 1, ' ', nan, nan, nan, nan, 1, nan, nan, nan, 1, 1, 1, nan, nan, nan, 3, nan, nan, nan, 1, ' ', nan, nan, 1, nan, nan, 1, 1, 1, nan, nan, nan, nan, 1, nan, 9, 8, 1, nan, ' ', nan, 1, ' ', nan, 1, nan, nan, nan, nan, 1, nan, nan, nan, nan, ' ', 1, 1, nan, nan, 2, nan, 1, nan, nan, nan, nan, 1, nan, 1, 1, 1, ' ', ' ', nan, 1, nan, nan, nan, 1, 9, 8, 1, ' ', ' ', nan, nan, nan, nan, 1, nan, nan, nan, nan, 1, nan, nan, nan, nan, ' ', 1, 1, nan, nan, 2, nan, ' ', 1, nan, ' ', nan, 1, 1, 1, nan, nan, nan, nan, 1, nan, nan, nan, nan, 1, 8, 7, ' ', nan, 1, ' ', 1, ' ', 1, nan, 1, nan, nan, nan, 1, nan, nan, nan, 1, nan, 1, 1, nan, nan, 3, nan, nan, nan, 1, ' ', nan, 1, nan, nan, nan, 1, nan, 1, 1, 1, nan, nan, 1, ' ', 10, 9, nan, 1, 1, ' ', 1, nan, nan, nan, 1, nan, nan, nan, 1, nan, nan, nan, ' ', nan, nan, 1, nan, nan, 1, nan, nan, 1, ' ', nan, nan, nan, nan, nan, 1, nan, 1, nan, nan, nan, nan, nan, nan, nan, 4, 4, nan, nan, nan, nan, nan, nan, nan, nan, nan, nan, nan, nan, nan], 23: [nan, '19H/20H', nan, 1, nan, nan, nan, nan, nan, 1, nan, ' ', nan, nan, nan, 1, nan, nan, ' ', nan, 1, nan, nan, nan, nan, nan, ' ', ' ', ' ', 3, 3, nan, nan, nan, nan, nan, ' ', nan, nan, nan, nan, nan, nan, ' ', nan, '19H/20H', nan, 1, nan, nan, nan, nan, nan, 1, nan, nan, nan, 1, ' ', nan, nan, 1, nan, nan, nan, nan, nan, nan, nan, nan, nan, ' ', nan, 3, 3, nan, nan, ' ', nan, nan, ' ', nan, nan, nan, nan, nan, nan, 1, nan, '19H/20H', nan, nan, nan, nan, 1, nan, nan, 1, nan, nan, nan, nan, nan, nan, 1, nan, 1, 1, nan, ' ', nan, nan, nan, nan, nan, nan, nan, 4, 4, nan, nan, nan, nan, nan, nan, nan, nan, nan, nan, nan, nan, ' ', nan, '19H/20H', nan, nan, ' ', nan, 1, nan, nan, 1, nan, ' ', 1, nan, ' ', nan, 1, nan, nan, nan, nan, nan, nan, nan, nan, nan, nan, nan, ' ', 3, 3, nan, nan, nan, nan, nan, ' ', nan, nan, nan, nan, nan, nan, ' ', nan, '19H/20H', nan, 1, nan, nan, nan, nan, nan, 1, nan, nan, nan, 1, nan, nan, nan, nan, nan, nan, 1, nan, nan, nan, nan, nan, nan, ' ', ' ', 3, 3, nan, nan, nan, nan, nan, nan, nan, nan, nan, nan, nan, nan, 1, nan, '19H/20H', nan, nan, nan, nan, nan, nan, nan, 0, nan, nan, nan, nan, nan, nan, nan, nan, nan, nan, nan, nan, nan, nan, nan, nan, nan, nan, nan, 0, 0, nan, nan, nan, nan, nan, nan, nan, nan, nan, nan, nan, nan, nan], 24: [nan, nan, nan, nan, nan, nan, nan, nan, nan, 0, nan, nan, nan, nan, nan, nan, nan, nan, nan, nan, nan, nan, nan, nan, nan, nan, nan, nan, nan, 0, 0, nan, nan, nan, nan, nan, nan, nan, nan, nan, nan, nan, nan, ' ', nan, nan, nan, nan, nan, nan, nan, nan, nan, 0, nan, nan, nan, nan, nan, nan, nan, nan, nan, nan, nan, nan, nan, nan, nan, nan, nan, nan, nan, 0, 0, nan, nan, nan, nan, nan, nan, nan, nan, nan, nan, nan, nan, '20h30', nan, nan, nan, nan, nan, nan, nan, nan, nan, 0, nan, nan, nan, nan, nan, nan, nan, nan, nan, nan, nan, nan, nan, nan, nan, nan, nan, nan, nan, 0, 0, nan, nan, nan, nan, nan, nan, nan, nan, nan, nan, nan, nan, ' ', nan, nan, nan, nan, nan, nan, nan, nan, nan, 0, nan, nan, nan, nan, nan, nan, nan, nan, nan, nan, nan, nan, nan, nan, nan, nan, nan, nan, nan, 0, 0, nan, nan, nan, nan, nan, nan, nan, nan, nan, nan, nan, nan, ' ', nan, nan, nan, nan, nan, nan, nan, nan, nan, 0, nan, nan, nan, nan, nan, nan, nan, nan, nan, nan, nan, nan, nan, nan, nan, nan, nan, nan, nan, 0, 0, nan, nan, nan, nan, nan, nan, nan, nan, nan, nan, nan, nan, '20h30', nan, nan, nan, nan, nan, nan, nan, nan, nan, 0, nan, nan, nan, nan, nan, nan, nan, nan, nan, nan, nan, nan, nan, nan, nan, nan, nan, nan, nan, 0, 0, nan, nan, nan, nan, nan, nan, nan, nan, nan, nan, nan, nan, nan], 25: ['T. JOUR', nan, 0, 10, 8.5, 8, 0, 0, 0, 26.5, 0, 8, 0, 0, 8, 9.5, 7.5, 0, 9.5, 0, 8.5, 9, 8, 0, 9, 0, 9.5, 7.5, 8.5, 129, 96.5, 9, 8, 0, 7, 8, 8, 9, 5.5, 7, 0, 0, 7, 7, 'T. JOUR', nan, 0, 9, 10, 8, 0, 0, 0, 27, 0, 4.5, 9, 8.5, 6.5, 4.5, 0, 9, 7.5, 0, 5, 8, 9.5, 0, 0, 0, 8.5, 9.5, 0, ' ', nan, 9, 0, 8, 7, 9, 8, 8.5, 9, 4, 0, 0, 7, 8, 'T. JOUR', nan, 0, 0, 8.5, 8.5, 9, 0, 0, 26, 0, 9.5, 0, 0, 0, 0, 9.5, 0, 9, 9, 8.5, 8.5, 9, 8, 9, 0, 7.5, 0, 9.5, ' ', nan, 9.5, 8.5, 8, 7, 0, 4, 0, 9, 8, 0, 0, 7, 5, 'T. JOUR', nan, 0, 0, 8, 9.5, 8.5, 0, 0, 26, 0, 4, 9.5, 0, 7.5, 8, 10, 8.5, 9, 0, 3.5, 0, 0, 9.5, 0, 0, 8.5, 0, 9.5, ' ', nan, 8.5, 0, 9.5, 7, 9, 8, 9, 8.5, 8, 0, 0, 7, 7, 'T. JOUR', nan, 0, 8.5, 0, 9.5, 9, 0, 0, 27, 0, 0, 8, 8, 6.5, 0, 9, 0, 0, 0, 9.5, 0, 8.5, 9.5, 9.5, 0, 0, 9, 7.5, ' ', nan, 0, 9.5, 9.5, 7, 9, 7, 8.5, 0, 8, 0, 0, 7, 8, 'T. JOUR', nan, 0, 8, 0, 0, 8.5, 0, 0, 16.5, 0, 0, 8.5, 8.5, 0, 0, 0, 0, 0, 8.5, 0, 9.5, 0, 8.5, 7.5, nan, 0, 9, 0, ' ', nan, 0, 9, 0, 0, 0, 0, 0, 3, 0, 0, 0, 0, nan], 26: ['T. SEMAINE', nan, 0, 35.5, 35, 43.5, 35, 0, 0, 149, 0, 26, 35, 25, 28.5, 22, 36, 17.5, 35, 17.5, 35, 35, 35, 35.5, 35, 0, 34, 35, 35, nan, 96.5, 36, 35, 35, 35, 35, 35, 35, 35, 35, 0, 0, 35, 35, 'T. SEMAINE', nan, 0, 35.5, 35, 43.5, 35, 0, nan, 149, 0, 26, 35, 25, 28.5, 22, 36, 17.5, 35, 17.5, 35, 35, 35, 35.5, 35, 0, 34, 35, 35, nan, 96.5, 36, 35, 35, 35, 35, 35, 35, 35, 35, 0, 0, 35, 35, 'T. SEMAINE', nan, 0, 35.5, 35, 43.5, 35, 0, 0, 149, 0, 26, 35, 25, 28.5, 22, 36, 17.5, 35, 17.5, 35, 35, 35, 35.5, 35, 0, 34, 35, 35, nan, 96.5, 36, 35, 35, 35, 35, 35, 35, 35, 35, 0, 0, 0, 35, 'T. SEMAINE', nan, 0, 35.5, 35, 43.5, 35, 0, 0, 149, 0, 26, 35, 25, 28.5, 22, 36, 17.5, 35, 17.5, 35, 35, 35, 35.5, 35, 0, 34, 35, 35, nan, 96.5, 36, 35, 35, 35, 35, 35, 35, 35, 35, nan, 0, 0, 35, 'T. SEMAINE', nan, 0, 35.5, 35, 43.5, 35, 0, 0, 149, 0, 26, 35, 25, 28.5, 22, 36, 17.5, 1, 17.5, 35, 35, 35, 35.5, 35, 0, 34, 35, 35, nan, 96.5, 36, 35, 35, 35, 35, 35, 35, 35, 35, nan, 0, 0, 35, 'T. SEMAINE', nan, 0, 35.5, 35, 43.5, 35, 0, 0, 149, 0, 26, 35, 25, 28.5, 22, 36, 17.5, 35, 17.5, 35, 35, 35, 35.5, 35, 0, 35, 35, 35, nan, 96.5, 36, 35, 35, 35, 35, 35, 35, 35, 35, 0, 0, 35, nan], 27: [nan, nan, nan, nan, nan, nan, nan, nan, nan, nan, nan, nan, nan, nan, nan, nan, nan, nan, nan, nan, nan, nan, nan, nan, nan, nan, nan, nan, nan, nan, nan, nan, nan, nan, nan, nan, nan, nan, nan, nan, nan, nan, nan, nan, nan, nan, nan, nan, nan, nan, nan, nan, nan, nan, nan, nan, nan, nan, nan, nan, nan, nan, nan, nan, nan, nan, nan, nan, nan, nan, nan, nan, nan, nan, nan, nan, nan, nan, nan, nan, nan, nan, nan, nan, nan, nan, nan, nan, nan, nan, nan, nan, nan, nan, nan, nan, nan, nan, nan, nan, nan, nan, nan, nan, nan, nan, nan, nan, nan, nan, nan, nan, nan, nan, nan, nan, nan, nan, nan, nan, nan, nan, nan, nan, nan, nan, nan, nan, nan, nan, nan, nan, nan, nan, nan, nan, nan, nan, nan, nan, nan, nan, nan, nan, nan, nan, nan, nan, nan, nan, nan, nan, nan, nan, nan, nan, nan, nan, nan, nan, nan, nan, nan, nan, nan, nan, nan, nan, nan, nan, nan, nan, nan, nan, nan, nan, nan, nan, nan, nan, nan, nan, nan, nan, nan, nan, nan, nan, nan, nan, nan, nan, nan, nan, ' ', nan, nan, nan, nan, nan, nan, nan, nan, nan, nan, nan, nan, nan, nan, nan, nan, nan, nan, nan, nan, nan, nan, nan, nan, nan, nan, nan, nan, nan, nan, nan, nan, nan, nan, nan, nan, nan, nan, nan, nan, nan, nan, nan, nan, nan, nan, nan, nan, nan, nan, nan, nan, nan, nan, nan, nan, nan, nan, nan, nan, nan, nan, nan, nan, nan, nan, nan, nan, nan], 28: [nan, nan, nan, nan, nan, nan, nan, nan, nan, nan, nan, nan, nan, nan, nan, nan, nan, nan, nan, nan, nan, nan, nan, nan, nan, nan, nan, nan, nan, nan, nan, nan, nan, nan, nan, nan, nan, nan, nan, nan, nan, nan, nan, nan, nan, nan, nan, nan, nan, nan, nan, nan, nan, nan, nan, nan, nan, nan, nan, nan, nan, nan, nan, nan, nan, nan, nan, nan, nan, nan, nan, nan, nan, nan, nan, nan, nan, nan, nan, nan, nan, nan, nan, nan, nan, nan, nan, nan, nan, nan, nan, nan, nan, nan, nan, nan, nan, nan, nan, nan, nan, nan, nan, nan, nan, nan, nan, nan, nan, nan, nan, nan, nan, nan, nan, nan, nan, nan, nan, nan, nan, nan, nan, nan, nan, nan, nan, nan, nan, nan, nan, nan, nan, nan, nan, nan, nan, nan, nan, nan, nan, nan, nan, nan, nan, nan, nan, nan, nan, nan, nan, nan, nan, nan, nan, nan, nan, nan, nan, nan, nan, nan, nan, nan, nan, nan, nan, nan, nan, nan, nan, nan, nan, nan, nan, nan, nan, nan, nan, nan, nan, nan, nan, nan, nan, nan, nan, nan, nan, nan, nan, nan, nan, nan, ' ', nan, nan, nan, nan, nan, nan, nan, nan, nan, nan, nan, nan, nan, nan, nan, nan, nan, nan, nan, nan, nan, nan, nan, nan, nan, nan, nan, nan, nan, nan, nan, nan, nan, nan, nan, nan, nan, nan, nan, nan, nan, nan, nan, nan, nan, nan, nan, nan, nan, nan, nan, nan, nan, nan, nan, nan, nan, nan, nan, nan, nan, nan, nan, nan, nan, nan, nan, nan, nan], 29: [nan, nan, nan, nan, nan, nan, nan, nan, nan, nan, nan, nan, nan, nan, nan, nan, nan, nan, nan, nan, nan, nan, nan, nan, nan, nan, nan, nan, nan, nan, nan, nan, nan, nan, nan, nan, nan, nan, nan, nan, nan, nan, nan, nan, nan, nan, nan, nan, nan, nan, nan, nan, nan, nan, nan, nan, nan, nan, nan, nan, nan, nan, nan, nan, nan, nan, nan, nan, nan, nan, nan, nan, nan, nan, nan, nan, nan, nan, nan, nan, nan, nan, nan, nan, nan, nan, nan, nan, nan, nan, nan, nan, nan, nan, nan, nan, nan, nan, nan, nan, nan, nan, nan, nan, nan, nan, nan, nan, nan, nan, nan, nan, nan, nan, nan, nan, nan, nan, nan, nan, nan, nan, nan, nan, nan, nan, nan, nan, nan, nan, nan, nan, nan, nan, nan, nan, nan, nan, nan, nan, nan, nan, nan, nan, nan, nan, nan, nan, nan, nan, nan, nan, nan, nan, nan, nan, nan, nan, nan, nan, nan, nan, nan, nan, nan, nan, nan, nan, nan, nan, nan, nan, nan, nan, nan, nan, nan, nan, nan, nan, nan, nan, nan, nan, nan, nan, nan, nan, nan, nan, nan, nan, nan, nan, ' ', nan, nan, nan, nan, nan, nan, nan, nan, nan, nan, nan, nan, nan, nan, nan, nan, nan, nan, nan, nan, nan, nan, nan, nan, nan, nan, nan, nan, nan, nan, nan, nan, nan, nan, nan, nan, nan, nan, nan, nan, nan, nan, nan, nan, nan, nan, nan, nan, nan, nan, nan, nan, nan, nan, nan, nan, nan, nan, nan, nan, nan, nan, nan, nan, nan, nan, nan, nan, nan]}\n"
     ]
    }
   ],
   "source": [
    "sheet_number = 2\n",
    "\n",
    "sheet_dict_lists = sheets_content[sheet_number].to_dict(orient='list')\n",
    "print(sheet_dict_lists)"
   ]
  },
  {
   "cell_type": "markdown",
   "metadata": {},
   "source": [
    "### fetch name row numbers"
   ]
  },
  {
   "cell_type": "code",
   "execution_count": 26,
   "metadata": {},
   "outputs": [
    {
     "data": {
      "text/plain": [
       "[20, 64, 108, 152, 196, 240]"
      ]
     },
     "execution_count": 26,
     "metadata": {},
     "output_type": "execute_result"
    }
   ],
   "source": [
    "name = 'lorine'\n",
    "UC_name = name.upper()\n",
    "rows_with_name = []\n",
    "\n",
    "for index, value in enumerate(sheet_dict_lists[0]):\n",
    "    if value == UC_name:\n",
    "        rows_with_name.append(index)\n",
    "\n",
    "rows_with_name\n"
   ]
  },
  {
   "cell_type": "markdown",
   "metadata": {},
   "source": [
    "### fetch week number row index"
   ]
  },
  {
   "cell_type": "code",
   "execution_count": 27,
   "metadata": {},
   "outputs": [
    {
     "name": "stdout",
     "output_type": "stream",
     "text": [
      "SEMAINE 42\n"
     ]
    },
    {
     "data": {
      "text/plain": [
       "[0, 44, 88, 132, 176, 220]"
      ]
     },
     "execution_count": 27,
     "metadata": {},
     "output_type": "execute_result"
    }
   ],
   "source": [
    "row_with_week = []\n",
    "print(sheet_names[sheet_number])\n",
    "for index, value in enumerate(sheet_dict_lists[0]):\n",
    "    if value == sheet_names[sheet_number]:\n",
    "        row_with_week.append(index)\n",
    "\n",
    "row_with_week"
   ]
  },
  {
   "cell_type": "markdown",
   "metadata": {},
   "source": [
    "### fetch dates table"
   ]
  },
  {
   "cell_type": "code",
   "execution_count": 28,
   "metadata": {},
   "outputs": [
    {
     "data": {
      "text/plain": [
       "['14 octobre 2024',\n",
       " '15 octobre 2024',\n",
       " '16 octobre 2024',\n",
       " '17 octobre 2024',\n",
       " '18 octobre 2024',\n",
       " '19 octobre 2024']"
      ]
     },
     "execution_count": 28,
     "metadata": {},
     "output_type": "execute_result"
    }
   ],
   "source": [
    "locale.setlocale(locale.LC_TIME, 'fr_FR')\n",
    "week_dates = []\n",
    "\n",
    "for week in row_with_week :\n",
    "    week_dates.append(sheet_dict_lists[1][week].strftime(\"%d %B %Y\"))\n",
    "\n",
    "week_dates"
   ]
  },
  {
   "cell_type": "markdown",
   "metadata": {},
   "source": [
    "### fetch hours day by day"
   ]
  },
  {
   "cell_type": "code",
   "execution_count": 29,
   "metadata": {},
   "outputs": [
    {
     "data": {
      "text/plain": [
       "array([['n', ' ', '1', '1', '1', '1', '1', '1', ' ', ' ', ' ', ' ', '1',\n",
       "        '1', '1', '1', '1', '1', '1', '1', '1', '1', '1', 'n', '', '',\n",
       "        ''],\n",
       "       ['n', 'n', 'n', 'n', 'n', 'n', 'n', 'n', 'n', 'n', 'n', 'n', '1',\n",
       "        '1', '1', '1', '1', '1', '1', '1', '1', '1', 'n', 'n', '', '',\n",
       "        ''],\n",
       "       ['n', ' ', ' ', '1', '1', '1', '1', '1', '1', '1', ' ', ' ', '1',\n",
       "        '1', '1', '1', '1', '1', '1', '1', '1', '1', 'n', 'n', '', '',\n",
       "        ''],\n",
       "       ['n', '1', '1', '1', '1', '1', '1', '1', 'n', 'n', 'n', 'n', 'n',\n",
       "        'n', 'n', 'n', 'n', 'n', 'n', 'n', 'n', 'n', 'n', 'n', '', '',\n",
       "        ''],\n",
       "       ['n', ' ', '1', '1', '1', '1', '1', '1', '1', '1', ' ', ' ', '1',\n",
       "        '1', '1', '1', '1', '1', '1', '1', '1', '1', '1', 'n', '', '',\n",
       "        ''],\n",
       "       ['n', 'n', 'n', 'n', 'n', 'n', 'n', 'n', 'n', 'n', 'n', 'n', 'n',\n",
       "        'n', 'n', 'n', 'n', 'n', 'n', 'n', 'n', 'n', 'n', 'n', '', '',\n",
       "        '']], dtype='<U1')"
      ]
     },
     "execution_count": 29,
     "metadata": {},
     "output_type": "execute_result"
    }
   ],
   "source": [
    "#1 to 24 column key fetch and numbers @ name rows\n",
    "\n",
    "# np array (2 dim)\n",
    "\n",
    "planning = np.full((6, 27), '', dtype=str)\n",
    "i = 0\n",
    "\n",
    "for name in rows_with_name :\n",
    "    for half_hour in range (1, 25) :\n",
    "        planning[i, half_hour-1] = sheet_dict_lists[list(sheet_dict_lists.keys())[half_hour]][name]\n",
    "    i+=1\n",
    "\n",
    "planning"
   ]
  },
  {
   "cell_type": "markdown",
   "metadata": {},
   "source": [
    "### fetch name cell color"
   ]
  },
  {
   "cell_type": "code",
   "execution_count": 30,
   "metadata": {},
   "outputs": [
    {
     "data": {
      "text/plain": [
       "array([['n', ' ', '1', '1', '1', '1', '1', '1', ' ', ' ', ' ', ' ', '1',\n",
       "        '1', '1', '1', '1', '1', '1', '1', '1', '1', '1', 'n', '', '',\n",
       "        ''],\n",
       "       ['n', 'n', 'n', 'n', 'n', 'n', 'n', 'n', 'n', 'n', 'n', 'n', '1',\n",
       "        '1', '1', '1', '1', '1', '1', '1', '1', '1', 'n', 'n', '', '',\n",
       "        ''],\n",
       "       ['n', ' ', ' ', '1', '1', '1', '1', '1', '1', '1', ' ', ' ', '1',\n",
       "        '1', '1', '1', '1', '1', '1', '1', '1', '1', 'n', 'n', '', '',\n",
       "        ''],\n",
       "       ['n', '1', '1', '1', '1', '1', '1', '1', 'n', 'n', 'n', 'n', 'n',\n",
       "        'n', 'n', 'n', 'n', 'n', 'n', 'n', 'n', 'n', 'n', 'n', '', '',\n",
       "        ''],\n",
       "       ['n', ' ', '1', '1', '1', '1', '1', '1', '1', '1', ' ', ' ', '1',\n",
       "        '1', '1', '1', '1', '1', '1', '1', '1', '1', '1', 'n', '', '',\n",
       "        ''],\n",
       "       ['n', 'n', 'n', 'n', 'n', 'n', 'n', 'n', 'n', 'n', 'n', 'n', 'n',\n",
       "        'n', 'n', 'n', 'n', 'n', 'n', 'n', 'n', 'n', 'n', 'n', '', '',\n",
       "        '']], dtype='<U1')"
      ]
     },
     "execution_count": 30,
     "metadata": {},
     "output_type": "execute_result"
    }
   ],
   "source": [
    "sheet = workbook[sheet_names[sheet_number]]\n",
    "\n",
    "sheet_offset = 0\n",
    "if(sheet_head[sheet_number]):\n",
    "    sheet_offset = 2\n",
    "else:\n",
    "    sheet_offset = 1\n",
    "\n",
    "for i in range(0, len(rows_with_name)):\n",
    "    cell = sheet[f\"A{rows_with_name[i]+sheet_offset}\"]\n",
    "    if isinstance(cell.fill.start_color.rgb, str):\n",
    "        bg_color = cell.fill.start_color.rgb\n",
    "        if bg_color == \"FFFF0000\":\n",
    "            planning[i, 23] = '1'\n",
    "            planning[i, 24] = '1'\n",
    "            planning[i, 25] = '1'\n",
    "\n",
    "planning\n",
    "\n",
    "        "
   ]
  },
  {
   "cell_type": "markdown",
   "metadata": {},
   "source": [
    "### create start and end times"
   ]
  },
  {
   "cell_type": "code",
   "execution_count": 31,
   "metadata": {},
   "outputs": [
    {
     "name": "stdout",
     "output_type": "stream",
     "text": [
      "[[9.0, 13.0], [14.0, 19.5]]\n"
     ]
    }
   ],
   "source": [
    "def workFrame(planning) :\n",
    "    frames = []\n",
    "    half = np.arange(16, 44, 1)\n",
    "    isBegin = False\n",
    "    row = [0,0]\n",
    "    for i in range(0, half.size-1) :\n",
    "        if(planning[i] == '1' and not isBegin) :\n",
    "            isBegin = True\n",
    "            row[0] = half[i]/2\n",
    "        if(planning[i] != '1' and isBegin) :\n",
    "            isBegin = False\n",
    "            row[1] = half[i]/2\n",
    "            frames.append([row[0], row[1]])\n",
    "\n",
    "    return frames\n",
    "\n",
    "print(workFrame(planning[4]))"
   ]
  },
  {
   "cell_type": "code",
   "execution_count": 32,
   "metadata": {},
   "outputs": [
    {
     "data": {
      "text/plain": [
       "[{'Work': 'Lundi 14 octobre 2024',\n",
       "  'Start': datetime.datetime(2024, 1, 1, 9, 0),\n",
       "  'Finish': datetime.datetime(2024, 1, 1, 12, 0),\n",
       "  'Tâche': 'travail'},\n",
       " {'Work': 'Lundi 14 octobre 2024',\n",
       "  'Start': datetime.datetime(2024, 1, 1, 14, 0),\n",
       "  'Finish': datetime.datetime(2024, 1, 1, 19, 30),\n",
       "  'Tâche': 'travail'},\n",
       " {'Work': 'Mardi 15 octobre 2024',\n",
       "  'Start': datetime.datetime(2024, 1, 1, 14, 0),\n",
       "  'Finish': datetime.datetime(2024, 1, 1, 19, 0),\n",
       "  'Tâche': 'travail'},\n",
       " {'Work': 'Mercredi 16 octobre 2024',\n",
       "  'Start': datetime.datetime(2024, 1, 1, 9, 30),\n",
       "  'Finish': datetime.datetime(2024, 1, 1, 13, 0),\n",
       "  'Tâche': 'travail'},\n",
       " {'Work': 'Mercredi 16 octobre 2024',\n",
       "  'Start': datetime.datetime(2024, 1, 1, 14, 0),\n",
       "  'Finish': datetime.datetime(2024, 1, 1, 19, 0),\n",
       "  'Tâche': 'travail'},\n",
       " {'Work': 'Jeudi 17 octobre 2024',\n",
       "  'Start': datetime.datetime(2024, 1, 1, 8, 30),\n",
       "  'Finish': datetime.datetime(2024, 1, 1, 12, 0),\n",
       "  'Tâche': 'travail'},\n",
       " {'Work': 'Vendredi 18 octobre 2024',\n",
       "  'Start': datetime.datetime(2024, 1, 1, 9, 0),\n",
       "  'Finish': datetime.datetime(2024, 1, 1, 13, 0),\n",
       "  'Tâche': 'travail'},\n",
       " {'Work': 'Vendredi 18 octobre 2024',\n",
       "  'Start': datetime.datetime(2024, 1, 1, 14, 0),\n",
       "  'Finish': datetime.datetime(2024, 1, 1, 19, 30),\n",
       "  'Tâche': 'travail'},\n",
       " {'Work': 'Samedi 19 octobre 2024',\n",
       "  'Start': datetime.datetime(2024, 1, 1, 8, 0),\n",
       "  'Finish': datetime.datetime(2024, 1, 1, 20, 0),\n",
       "  'Tâche': 'repos'}]"
      ]
     },
     "execution_count": 32,
     "metadata": {},
     "output_type": "execute_result"
    }
   ],
   "source": [
    "data = []\n",
    "date = 0\n",
    "start_time = datetime.datetime(2024, 1, 1, 0, 0)\n",
    "days_of_week = ['Lundi', 'Mardi', 'Mercredi', 'Jeudi', 'Vendredi', 'Samedi']\n",
    "\n",
    "alphabet_enum = list(string.ascii_uppercase)\n",
    "\n",
    "sheet_offset = 0\n",
    "if(sheet_head[sheet_number]):\n",
    "    sheet_offset = 2\n",
    "else:\n",
    "    sheet_offset = 1\n",
    "\n",
    "for day in planning :\n",
    "    frame = workFrame(day)\n",
    "    if frame == []:\n",
    "        start = start_time + datetime.timedelta(hours=8)\n",
    "        finish = start_time + datetime.timedelta(hours=20)\n",
    "        activity_name = f\"{days_of_week[date]} {week_dates[date]}\"\n",
    "        tache = \"off\"\n",
    "        for i in range (0, day.size-4):\n",
    "            cell = sheet[f\"{alphabet_enum[i+1]}{rows_with_name[date]+sheet_offset}\"]\n",
    "            if isinstance(cell.fill.start_color.rgb, str):\n",
    "                bg_color = cell.fill.start_color.rgb\n",
    "                if bg_color == \"FFFFFF00\":\n",
    "                    tache = \"vacances\"\n",
    "                elif bg_color == \"FF92D050\":\n",
    "                    tache = \"repos\"\n",
    "                elif bg_color == \"FFFF99CC\":\n",
    "                    tache = \"arrêt\"\n",
    "        data.append(dict(Work=activity_name, Start=start, Finish=finish, Tâche=tache))\n",
    "    for interval in frame :\n",
    "        start_minute = 0\n",
    "        if interval[0]%1 != 0:\n",
    "            start_minute = 30\n",
    "        start = start_time + datetime.timedelta(hours=math.floor(interval[0]), minutes=start_minute)\n",
    "        finish_minute  = 0\n",
    "        if interval[1]%1 != 0:\n",
    "            finish_minute = 30\n",
    "        finish = start_time + datetime.timedelta(hours=math.floor(interval[1]), minutes=finish_minute)\n",
    "        activity_name = f\"{days_of_week[date]} {week_dates[date]}\"\n",
    "        data.append(dict(Work=activity_name, Start=start, Finish=finish, Tâche=\"travail\"))\n",
    "    date +=1\n",
    "data\n",
    "\n",
    "#FORMAT bg_color\n",
    "    "
   ]
  },
  {
   "cell_type": "markdown",
   "metadata": {},
   "source": [
    "## graphical interface"
   ]
  },
  {
   "cell_type": "code",
   "execution_count": 33,
   "metadata": {},
   "outputs": [
    {
     "data": {
      "application/vnd.plotly.v1+json": {
       "config": {
        "plotlyServerURL": "https://plot.ly"
       },
       "data": [
        {
         "alignmentgroup": "True",
         "base": [
          "2024-01-01T09:00:00",
          "2024-01-01T14:00:00",
          "2024-01-01T14:00:00",
          "2024-01-01T09:30:00",
          "2024-01-01T14:00:00",
          "2024-01-01T08:30:00",
          "2024-01-01T09:00:00",
          "2024-01-01T14:00:00"
         ],
         "hovertemplate": "Tâche=travail<br>Start=%{base}<br>Finish=%{x}<br>Work=%{y}<extra></extra>",
         "legendgroup": "travail",
         "marker": {
          "color": "rgb(141,237,217)",
          "pattern": {
           "shape": ""
          }
         },
         "name": "travail",
         "offsetgroup": "travail",
         "orientation": "h",
         "showlegend": true,
         "textposition": "auto",
         "type": "bar",
         "x": [
          10800000,
          19800000,
          18000000,
          12600000,
          18000000,
          12600000,
          14400000,
          19800000
         ],
         "xaxis": "x",
         "y": [
          "Lundi 14 octobre 2024",
          "Lundi 14 octobre 2024",
          "Mardi 15 octobre 2024",
          "Mercredi 16 octobre 2024",
          "Mercredi 16 octobre 2024",
          "Jeudi 17 octobre 2024",
          "Vendredi 18 octobre 2024",
          "Vendredi 18 octobre 2024"
         ],
         "yaxis": "y"
        },
        {
         "alignmentgroup": "True",
         "base": [
          "2024-01-01T08:00:00"
         ],
         "hovertemplate": "Tâche=repos<br>Start=%{base}<br>Finish=%{x}<br>Work=%{y}<extra></extra>",
         "legendgroup": "repos",
         "marker": {
          "color": "rgb(238,9,121)",
          "pattern": {
           "shape": ""
          }
         },
         "name": "repos",
         "offsetgroup": "repos",
         "orientation": "h",
         "showlegend": true,
         "textposition": "auto",
         "type": "bar",
         "x": [
          43200000
         ],
         "xaxis": "x",
         "y": [
          "Samedi 19 octobre 2024"
         ],
         "yaxis": "y"
        }
       ],
       "layout": {
        "barmode": "overlay",
        "legend": {
         "title": {
          "text": "Tâche"
         },
         "tracegroupgap": 0
        },
        "margin": {
         "t": 60
        },
        "template": {
         "data": {
          "bar": [
           {
            "error_x": {
             "color": "#2a3f5f"
            },
            "error_y": {
             "color": "#2a3f5f"
            },
            "marker": {
             "line": {
              "color": "#E5ECF6",
              "width": 0.5
             },
             "pattern": {
              "fillmode": "overlay",
              "size": 10,
              "solidity": 0.2
             }
            },
            "type": "bar"
           }
          ],
          "barpolar": [
           {
            "marker": {
             "line": {
              "color": "#E5ECF6",
              "width": 0.5
             },
             "pattern": {
              "fillmode": "overlay",
              "size": 10,
              "solidity": 0.2
             }
            },
            "type": "barpolar"
           }
          ],
          "carpet": [
           {
            "aaxis": {
             "endlinecolor": "#2a3f5f",
             "gridcolor": "white",
             "linecolor": "white",
             "minorgridcolor": "white",
             "startlinecolor": "#2a3f5f"
            },
            "baxis": {
             "endlinecolor": "#2a3f5f",
             "gridcolor": "white",
             "linecolor": "white",
             "minorgridcolor": "white",
             "startlinecolor": "#2a3f5f"
            },
            "type": "carpet"
           }
          ],
          "choropleth": [
           {
            "colorbar": {
             "outlinewidth": 0,
             "ticks": ""
            },
            "type": "choropleth"
           }
          ],
          "contour": [
           {
            "colorbar": {
             "outlinewidth": 0,
             "ticks": ""
            },
            "colorscale": [
             [
              0,
              "#0d0887"
             ],
             [
              0.1111111111111111,
              "#46039f"
             ],
             [
              0.2222222222222222,
              "#7201a8"
             ],
             [
              0.3333333333333333,
              "#9c179e"
             ],
             [
              0.4444444444444444,
              "#bd3786"
             ],
             [
              0.5555555555555556,
              "#d8576b"
             ],
             [
              0.6666666666666666,
              "#ed7953"
             ],
             [
              0.7777777777777778,
              "#fb9f3a"
             ],
             [
              0.8888888888888888,
              "#fdca26"
             ],
             [
              1,
              "#f0f921"
             ]
            ],
            "type": "contour"
           }
          ],
          "contourcarpet": [
           {
            "colorbar": {
             "outlinewidth": 0,
             "ticks": ""
            },
            "type": "contourcarpet"
           }
          ],
          "heatmap": [
           {
            "colorbar": {
             "outlinewidth": 0,
             "ticks": ""
            },
            "colorscale": [
             [
              0,
              "#0d0887"
             ],
             [
              0.1111111111111111,
              "#46039f"
             ],
             [
              0.2222222222222222,
              "#7201a8"
             ],
             [
              0.3333333333333333,
              "#9c179e"
             ],
             [
              0.4444444444444444,
              "#bd3786"
             ],
             [
              0.5555555555555556,
              "#d8576b"
             ],
             [
              0.6666666666666666,
              "#ed7953"
             ],
             [
              0.7777777777777778,
              "#fb9f3a"
             ],
             [
              0.8888888888888888,
              "#fdca26"
             ],
             [
              1,
              "#f0f921"
             ]
            ],
            "type": "heatmap"
           }
          ],
          "heatmapgl": [
           {
            "colorbar": {
             "outlinewidth": 0,
             "ticks": ""
            },
            "colorscale": [
             [
              0,
              "#0d0887"
             ],
             [
              0.1111111111111111,
              "#46039f"
             ],
             [
              0.2222222222222222,
              "#7201a8"
             ],
             [
              0.3333333333333333,
              "#9c179e"
             ],
             [
              0.4444444444444444,
              "#bd3786"
             ],
             [
              0.5555555555555556,
              "#d8576b"
             ],
             [
              0.6666666666666666,
              "#ed7953"
             ],
             [
              0.7777777777777778,
              "#fb9f3a"
             ],
             [
              0.8888888888888888,
              "#fdca26"
             ],
             [
              1,
              "#f0f921"
             ]
            ],
            "type": "heatmapgl"
           }
          ],
          "histogram": [
           {
            "marker": {
             "pattern": {
              "fillmode": "overlay",
              "size": 10,
              "solidity": 0.2
             }
            },
            "type": "histogram"
           }
          ],
          "histogram2d": [
           {
            "colorbar": {
             "outlinewidth": 0,
             "ticks": ""
            },
            "colorscale": [
             [
              0,
              "#0d0887"
             ],
             [
              0.1111111111111111,
              "#46039f"
             ],
             [
              0.2222222222222222,
              "#7201a8"
             ],
             [
              0.3333333333333333,
              "#9c179e"
             ],
             [
              0.4444444444444444,
              "#bd3786"
             ],
             [
              0.5555555555555556,
              "#d8576b"
             ],
             [
              0.6666666666666666,
              "#ed7953"
             ],
             [
              0.7777777777777778,
              "#fb9f3a"
             ],
             [
              0.8888888888888888,
              "#fdca26"
             ],
             [
              1,
              "#f0f921"
             ]
            ],
            "type": "histogram2d"
           }
          ],
          "histogram2dcontour": [
           {
            "colorbar": {
             "outlinewidth": 0,
             "ticks": ""
            },
            "colorscale": [
             [
              0,
              "#0d0887"
             ],
             [
              0.1111111111111111,
              "#46039f"
             ],
             [
              0.2222222222222222,
              "#7201a8"
             ],
             [
              0.3333333333333333,
              "#9c179e"
             ],
             [
              0.4444444444444444,
              "#bd3786"
             ],
             [
              0.5555555555555556,
              "#d8576b"
             ],
             [
              0.6666666666666666,
              "#ed7953"
             ],
             [
              0.7777777777777778,
              "#fb9f3a"
             ],
             [
              0.8888888888888888,
              "#fdca26"
             ],
             [
              1,
              "#f0f921"
             ]
            ],
            "type": "histogram2dcontour"
           }
          ],
          "mesh3d": [
           {
            "colorbar": {
             "outlinewidth": 0,
             "ticks": ""
            },
            "type": "mesh3d"
           }
          ],
          "parcoords": [
           {
            "line": {
             "colorbar": {
              "outlinewidth": 0,
              "ticks": ""
             }
            },
            "type": "parcoords"
           }
          ],
          "pie": [
           {
            "automargin": true,
            "type": "pie"
           }
          ],
          "scatter": [
           {
            "fillpattern": {
             "fillmode": "overlay",
             "size": 10,
             "solidity": 0.2
            },
            "type": "scatter"
           }
          ],
          "scatter3d": [
           {
            "line": {
             "colorbar": {
              "outlinewidth": 0,
              "ticks": ""
             }
            },
            "marker": {
             "colorbar": {
              "outlinewidth": 0,
              "ticks": ""
             }
            },
            "type": "scatter3d"
           }
          ],
          "scattercarpet": [
           {
            "marker": {
             "colorbar": {
              "outlinewidth": 0,
              "ticks": ""
             }
            },
            "type": "scattercarpet"
           }
          ],
          "scattergeo": [
           {
            "marker": {
             "colorbar": {
              "outlinewidth": 0,
              "ticks": ""
             }
            },
            "type": "scattergeo"
           }
          ],
          "scattergl": [
           {
            "marker": {
             "colorbar": {
              "outlinewidth": 0,
              "ticks": ""
             }
            },
            "type": "scattergl"
           }
          ],
          "scattermapbox": [
           {
            "marker": {
             "colorbar": {
              "outlinewidth": 0,
              "ticks": ""
             }
            },
            "type": "scattermapbox"
           }
          ],
          "scatterpolar": [
           {
            "marker": {
             "colorbar": {
              "outlinewidth": 0,
              "ticks": ""
             }
            },
            "type": "scatterpolar"
           }
          ],
          "scatterpolargl": [
           {
            "marker": {
             "colorbar": {
              "outlinewidth": 0,
              "ticks": ""
             }
            },
            "type": "scatterpolargl"
           }
          ],
          "scatterternary": [
           {
            "marker": {
             "colorbar": {
              "outlinewidth": 0,
              "ticks": ""
             }
            },
            "type": "scatterternary"
           }
          ],
          "surface": [
           {
            "colorbar": {
             "outlinewidth": 0,
             "ticks": ""
            },
            "colorscale": [
             [
              0,
              "#0d0887"
             ],
             [
              0.1111111111111111,
              "#46039f"
             ],
             [
              0.2222222222222222,
              "#7201a8"
             ],
             [
              0.3333333333333333,
              "#9c179e"
             ],
             [
              0.4444444444444444,
              "#bd3786"
             ],
             [
              0.5555555555555556,
              "#d8576b"
             ],
             [
              0.6666666666666666,
              "#ed7953"
             ],
             [
              0.7777777777777778,
              "#fb9f3a"
             ],
             [
              0.8888888888888888,
              "#fdca26"
             ],
             [
              1,
              "#f0f921"
             ]
            ],
            "type": "surface"
           }
          ],
          "table": [
           {
            "cells": {
             "fill": {
              "color": "#EBF0F8"
             },
             "line": {
              "color": "white"
             }
            },
            "header": {
             "fill": {
              "color": "#C8D4E3"
             },
             "line": {
              "color": "white"
             }
            },
            "type": "table"
           }
          ]
         },
         "layout": {
          "annotationdefaults": {
           "arrowcolor": "#2a3f5f",
           "arrowhead": 0,
           "arrowwidth": 1
          },
          "autotypenumbers": "strict",
          "coloraxis": {
           "colorbar": {
            "outlinewidth": 0,
            "ticks": ""
           }
          },
          "colorscale": {
           "diverging": [
            [
             0,
             "#8e0152"
            ],
            [
             0.1,
             "#c51b7d"
            ],
            [
             0.2,
             "#de77ae"
            ],
            [
             0.3,
             "#f1b6da"
            ],
            [
             0.4,
             "#fde0ef"
            ],
            [
             0.5,
             "#f7f7f7"
            ],
            [
             0.6,
             "#e6f5d0"
            ],
            [
             0.7,
             "#b8e186"
            ],
            [
             0.8,
             "#7fbc41"
            ],
            [
             0.9,
             "#4d9221"
            ],
            [
             1,
             "#276419"
            ]
           ],
           "sequential": [
            [
             0,
             "#0d0887"
            ],
            [
             0.1111111111111111,
             "#46039f"
            ],
            [
             0.2222222222222222,
             "#7201a8"
            ],
            [
             0.3333333333333333,
             "#9c179e"
            ],
            [
             0.4444444444444444,
             "#bd3786"
            ],
            [
             0.5555555555555556,
             "#d8576b"
            ],
            [
             0.6666666666666666,
             "#ed7953"
            ],
            [
             0.7777777777777778,
             "#fb9f3a"
            ],
            [
             0.8888888888888888,
             "#fdca26"
            ],
            [
             1,
             "#f0f921"
            ]
           ],
           "sequentialminus": [
            [
             0,
             "#0d0887"
            ],
            [
             0.1111111111111111,
             "#46039f"
            ],
            [
             0.2222222222222222,
             "#7201a8"
            ],
            [
             0.3333333333333333,
             "#9c179e"
            ],
            [
             0.4444444444444444,
             "#bd3786"
            ],
            [
             0.5555555555555556,
             "#d8576b"
            ],
            [
             0.6666666666666666,
             "#ed7953"
            ],
            [
             0.7777777777777778,
             "#fb9f3a"
            ],
            [
             0.8888888888888888,
             "#fdca26"
            ],
            [
             1,
             "#f0f921"
            ]
           ]
          },
          "colorway": [
           "#636efa",
           "#EF553B",
           "#00cc96",
           "#ab63fa",
           "#FFA15A",
           "#19d3f3",
           "#FF6692",
           "#B6E880",
           "#FF97FF",
           "#FECB52"
          ],
          "font": {
           "color": "#2a3f5f"
          },
          "geo": {
           "bgcolor": "white",
           "lakecolor": "white",
           "landcolor": "#E5ECF6",
           "showlakes": true,
           "showland": true,
           "subunitcolor": "white"
          },
          "hoverlabel": {
           "align": "left"
          },
          "hovermode": "closest",
          "mapbox": {
           "style": "light"
          },
          "paper_bgcolor": "white",
          "plot_bgcolor": "#E5ECF6",
          "polar": {
           "angularaxis": {
            "gridcolor": "white",
            "linecolor": "white",
            "ticks": ""
           },
           "bgcolor": "#E5ECF6",
           "radialaxis": {
            "gridcolor": "white",
            "linecolor": "white",
            "ticks": ""
           }
          },
          "scene": {
           "xaxis": {
            "backgroundcolor": "#E5ECF6",
            "gridcolor": "white",
            "gridwidth": 2,
            "linecolor": "white",
            "showbackground": true,
            "ticks": "",
            "zerolinecolor": "white"
           },
           "yaxis": {
            "backgroundcolor": "#E5ECF6",
            "gridcolor": "white",
            "gridwidth": 2,
            "linecolor": "white",
            "showbackground": true,
            "ticks": "",
            "zerolinecolor": "white"
           },
           "zaxis": {
            "backgroundcolor": "#E5ECF6",
            "gridcolor": "white",
            "gridwidth": 2,
            "linecolor": "white",
            "showbackground": true,
            "ticks": "",
            "zerolinecolor": "white"
           }
          },
          "shapedefaults": {
           "line": {
            "color": "#2a3f5f"
           }
          },
          "ternary": {
           "aaxis": {
            "gridcolor": "white",
            "linecolor": "white",
            "ticks": ""
           },
           "baxis": {
            "gridcolor": "white",
            "linecolor": "white",
            "ticks": ""
           },
           "bgcolor": "#E5ECF6",
           "caxis": {
            "gridcolor": "white",
            "linecolor": "white",
            "ticks": ""
           }
          },
          "title": {
           "x": 0.05
          },
          "xaxis": {
           "automargin": true,
           "gridcolor": "white",
           "linecolor": "white",
           "ticks": "",
           "title": {
            "standoff": 15
           },
           "zerolinecolor": "white",
           "zerolinewidth": 2
          },
          "yaxis": {
           "automargin": true,
           "gridcolor": "white",
           "linecolor": "white",
           "ticks": "",
           "title": {
            "standoff": 15
           },
           "zerolinecolor": "white",
           "zerolinewidth": 2
          }
         }
        },
        "title": {
         "text": "Total heures : 35.0 h"
        },
        "xaxis": {
         "anchor": "y",
         "domain": [
          0,
          1
         ],
         "dtick": 1800000,
         "side": "top",
         "tickformat": "%H:%M",
         "title": {
          "text": "Heure"
         },
         "type": "date"
        },
        "yaxis": {
         "anchor": "x",
         "categoryarray": [
          "Samedi 19 octobre 2024",
          "Vendredi 18 octobre 2024",
          "Vendredi 18 octobre 2024",
          "Jeudi 17 octobre 2024",
          "Mercredi 16 octobre 2024",
          "Mercredi 16 octobre 2024",
          "Mardi 15 octobre 2024",
          "Lundi 14 octobre 2024",
          "Lundi 14 octobre 2024"
         ],
         "categoryorder": "array",
         "domain": [
          0,
          1
         ],
         "title": {
          "text": "Work"
         }
        }
       }
      }
     },
     "metadata": {},
     "output_type": "display_data"
    }
   ],
   "source": [
    "import plotly.express as px\n",
    "import pandas as pd\n",
    "\n",
    "\n",
    "# Data with hour-based tasks (use a dummy date like '2024-01-01')\n",
    "df = pd.DataFrame(data)\n",
    "\n",
    "# Convert Start and Finish to datetime format\n",
    "df['Start'] = pd.to_datetime(df['Start'])\n",
    "df['Finish'] = pd.to_datetime(df['Finish'])\n",
    "\n",
    "# Calculate the duration of each task and total time elapsed\n",
    "df['Duration'] = df['Finish'] - df['Start']\n",
    "task_a_df = df[df['Tâche'] == \"travail\"]\n",
    "\n",
    "# Sum the total duration for \"Task A\"\n",
    "total_duration_task_a = task_a_df['Duration'].sum()\n",
    "\n",
    "# Retrieve total time in hours for \"Task A\"\n",
    "total_hours_task_a = total_duration_task_a.total_seconds() / 3600\n",
    "\n",
    "# Define the exact order of tasks as they appear in the data\n",
    "task_order = df[\"Work\"].tolist()\n",
    "\n",
    "color_map = {\n",
    "    \"travail\": \"rgb(141,237,217)\",\n",
    "    \"off\": \"rgb(253,88,110)\",\n",
    "    \"repos\": \"rgb(238,9,121)\",\n",
    "    \"vacances\": \"rgb(192,15,191)\",\n",
    "    \"arrêt\": \"rgb(174,225,242)\"\n",
    "}\n",
    "\n",
    "fig = px.timeline(\n",
    "    df,\n",
    "    x_start=\"Start\",\n",
    "    x_end=\"Finish\",\n",
    "    y=\"Work\",\n",
    "    color=\"Tâche\",\n",
    "    category_orders={\"Work\": task_order},\n",
    "    color_discrete_map=color_map\n",
    ")\n",
    "\n",
    "# Adjust x-axis to show tick marks at 30-minute intervals\n",
    "fig.update_layout(\n",
    "    xaxis=dict(\n",
    "        tickformat=\"%H:%M\",  # Format to show only hours and minutes\n",
    "        title=\"Heure\",\n",
    "        side=\"top\",  # Move the x-axis to the top\n",
    "        dtick=1800000  # 30 minutes in milliseconds (30 * 60 * 1000)\n",
    "    ),\n",
    "    title=f\"Total heures : {total_hours_task_a} h\"\n",
    ")\n",
    "\n",
    "fig.show()"
   ]
  }
 ],
 "metadata": {
  "kernelspec": {
   "display_name": "Python 3",
   "language": "python",
   "name": "python3"
  },
  "language_info": {
   "codemirror_mode": {
    "name": "ipython",
    "version": 3
   },
   "file_extension": ".py",
   "mimetype": "text/x-python",
   "name": "python",
   "nbconvert_exporter": "python",
   "pygments_lexer": "ipython3",
   "version": "3.12.2"
  }
 },
 "nbformat": 4,
 "nbformat_minor": 2
}
